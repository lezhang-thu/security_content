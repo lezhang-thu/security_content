{
 "cells": [
  {
   "cell_type": "markdown",
   "metadata": {
    "slideshow": {
     "slide_type": "slide"
    }
   },
   "source": [
    "# 模型选择、欠拟合和过拟合\n",
    "\n",
    "* 例如，我们想要在患者的基因数据与痴呆状态之间寻找模式，\n",
    "其中标签是从集合$\\{\\text{痴呆}, \\text{轻度认知障碍}, \\text{健康}\\}$中提取的。\n",
    "\n",
    "* 因为基因可以唯一确定每个个体（不考虑双胞胎），\n",
    "所以在这个任务中是有可能记住整个数据集的。\n",
    "\n",
    "* 我们不想让模型只会做这样的事情：“那是鲍勃！我记得他！他有痴呆症！”。"
   ]
  },
  {
   "cell_type": "markdown",
   "metadata": {
    "slideshow": {
     "slide_type": "slide"
    }
   },
   "source": [
    "当我们使用有限的样本时，可能会遇到这样的问题：\n",
    "当收集到更多的数据时，会发现之前找到的明显关系并不成立。"
   ]
  },
  {
   "cell_type": "markdown",
   "metadata": {
    "slideshow": {
     "slide_type": "slide"
    }
   },
   "source": [
    "## 训练误差和泛化误差\n",
    "\n",
    "* *训练误差*（training error）是指，\n",
    "模型在训练数据集上计算得到的误差。\n",
    "* *泛化误差*（generalization error）是指，\n",
    "模型应用在同样从原始样本的分布中抽取的无限多数据样本时，模型误差的*期望*。"
   ]
  },
  {
   "cell_type": "markdown",
   "metadata": {
    "slideshow": {
     "slide_type": "slide"
    }
   },
   "source": [
    "### 模型复杂性\n",
    "\n",
    "几个倾向于影响模型泛化的因素：\n",
    "\n",
    "1. 可调整参数的数量。当可调整参数的数量（有时称为*自由度*）很大时，模型往往更容易过拟合。\n",
    "1. 参数采用的值。当权重的取值范围较大时，模型可能更容易过拟合。\n",
    "1. 训练样本的数量。即使你的模型很简单，也很容易过拟合只包含一两个样本的数据集。而过拟合一个有数百万个样本的数据集则需要一个极其灵活的模型。"
   ]
  },
  {
   "cell_type": "markdown",
   "metadata": {
    "slideshow": {
     "slide_type": "slide"
    }
   },
   "source": [
    "## 模型选择\n",
    "\n",
    "* 例如，训练多层感知机模型时，我们可能希望比较具有\n",
    "不同数量的隐藏层、不同数量的隐藏单元以及不同的的激活函数组合的模型。\n",
    "* 为了确定候选模型中的最佳模型，我们通常会使用验证集。"
   ]
  },
  {
   "cell_type": "markdown",
   "metadata": {
    "slideshow": {
     "slide_type": "slide"
    }
   },
   "source": [
    "### 验证集\n",
    "\n",
    "* 如果我们过拟合了训练数据，还可以在测试数据上的评估来判断过拟合。\n",
    "* 因此，我们决不能依靠测试数据进行模型选择。\n",
    "* *验证集*（validation set）"
   ]
  },
  {
   "cell_type": "markdown",
   "metadata": {
    "slideshow": {
     "slide_type": "slide"
    }
   },
   "source": [
    "### $K$折交叉验证\n",
    "\n",
    "当训练数据稀缺时，我们甚至可能无法提供足够的数据来构成一个合适的验证集。\n",
    "\n",
    "* 这里，原始训练数据被分成$K$个不重叠的子集。\n",
    "* 然后执行$K$次模型训练和验证，每次在$K-1$个子集上进行训练，\n",
    "并在剩余的一个子集（在该轮中没有用于训练的子集）上进行验证。\n",
    "* 最后，通过对$K$次实验的结果**取平均**来估计训练和验证误差。"
   ]
  },
  {
   "cell_type": "markdown",
   "metadata": {
    "slideshow": {
     "slide_type": "slide"
    }
   },
   "source": [
    "## 欠拟合还是过拟合\n",
    "\n",
    "### *欠拟合*（underfitting）\n",
    "\n",
    "* 如果模型不能降低训练误差，这可能意味着模型过于简单（即表达能力不足），\n",
    "无法捕获试图学习的模式。\n",
    "* 训练误差和验证误差都很严重，\n",
    "但它们之间仅有一点差距。"
   ]
  },
  {
   "cell_type": "markdown",
   "metadata": {
    "slideshow": {
     "slide_type": "slide"
    }
   },
   "source": [
    "### *过拟合*（overfitting）\n",
    "\n",
    "* 训练误差明显低于验证误差时"
   ]
  },
  {
   "cell_type": "markdown",
   "metadata": {
    "slideshow": {
     "slide_type": "slide"
    }
   },
   "source": [
    "### 模型复杂性\n",
    "\n",
    "<center><img src=\"capacity-vs-error.svg\" width=\"50%\"></center>\n",
    "<center>模型复杂度对欠拟合和过拟合的影响</center>"
   ]
  },
  {
   "cell_type": "markdown",
   "metadata": {
    "slideshow": {
     "slide_type": "slide"
    }
   },
   "source": [
    "### 数据集大小\n",
    "\n",
    "* 训练数据集中的样本越少，我们就越有可能（且更严重地）过拟合。\n",
    "* 随着训练数据量的增加，泛化误差通常会减小。"
   ]
  },
  {
   "cell_type": "markdown",
   "metadata": {
    "slideshow": {
     "slide_type": "slide"
    }
   },
   "source": [
    "## 多项式函数拟合问题\n",
    "\n",
    "$$\n",
    "f_M(x,w)=w_0+w_1x+w_2x^2+\\dotsb+w_Mx^M=\\sum_{j=0}^Mw_jx^j\n",
    "$$\n",
    "\n",
    "$$\n",
    "L(w)=\\frac{1}{2}\\sum_{i=1}^N\\biggl(\\sum_{j=0}^Mw_jx_i^j-y_i\\biggr)^2\n",
    "$$"
   ]
  },
  {
   "cell_type": "markdown",
   "metadata": {
    "slideshow": {
     "slide_type": "subslide"
    }
   },
   "source": [
    "* 定义矩阵$X$为：\n",
    "$$\n",
    "X=\n",
    "\\begin{bmatrix}\n",
    "1 & x_1 & x_1^2 & \\dots & x_1^M\\\\\n",
    "1 & x_2 & x_2^2 & \\dots & x_2^M\\\\\n",
    "\\vdots & \\vdots & \\vdots & \\ddots & \\vdots\\\\\n",
    "1 & x_N & x_N^2 & \\dots & x_N^M\n",
    "\\end{bmatrix}\n",
    "$$\n",
    "* 我们有$L(w)$为：\n",
    "$$L(w)=\\frac{1}{2}\\|Xw-y\\|^2$$\n"
   ]
  },
  {
   "cell_type": "markdown",
   "metadata": {
    "slideshow": {
     "slide_type": "slide"
    }
   },
   "source": [
    "* 目标函数$y=\\sin2{\\pi}x$\n",
    "* 加上一个正态分布的噪音干扰"
   ]
  },
  {
   "cell_type": "code",
   "execution_count": 1,
   "metadata": {
    "slideshow": {
     "slide_type": "subslide"
    }
   },
   "outputs": [],
   "source": [
    "import matplotlib.pyplot as plt\n",
    "import numpy as np\n",
    "import scipy as sp\n",
    "from scipy.optimize import leastsq\n",
    "\n",
    "%matplotlib inline"
   ]
  },
  {
   "cell_type": "markdown",
   "metadata": {
    "slideshow": {
     "slide_type": "slide"
    }
   },
   "source": [
    "`np.poly1d([1,2,3])`  生成  $1x^2+2x^1+3x^0$"
   ]
  },
  {
   "cell_type": "code",
   "execution_count": 2,
   "metadata": {
    "slideshow": {
     "slide_type": "subslide"
    }
   },
   "outputs": [],
   "source": [
    "# 目标函数\n",
    "def real_func(x):\n",
    "    return np.sin(2 * np.pi * x)\n",
    "\n",
    "\n",
    "# 多项式\n",
    "def fit_func(p, x):\n",
    "    f = np.poly1d(p)\n",
    "    return f(x)\n",
    "\n",
    "\n",
    "# 残差\n",
    "def residuals_func(p, x, y):\n",
    "    ret = fit_func(p, x) - y\n",
    "    return ret"
   ]
  },
  {
   "cell_type": "code",
   "execution_count": 3,
   "metadata": {
    "slideshow": {
     "slide_type": "slide"
    }
   },
   "outputs": [],
   "source": [
    "# 十个点\n",
    "x = np.linspace(0, 1, 10)\n",
    "x_points = np.linspace(0, 1, 1000)\n",
    "# 加上正态分布噪音的目标函数的值\n",
    "y = np.random.normal(0, 0.1, 10) + real_func(x)"
   ]
  },
  {
   "cell_type": "code",
   "execution_count": 4,
   "metadata": {
    "slideshow": {
     "slide_type": "subslide"
    }
   },
   "outputs": [],
   "source": [
    "def fitting(M=0):\n",
    "    # 随机初始化多项式参数\n",
    "    p_init = np.random.rand(M + 1)\n",
    "    # 最小二乘法\n",
    "    p_lsq = leastsq(residuals_func, p_init, args=(x, y))\n",
    "    print(\"Fitting Parameters:\", p_lsq[0])\n",
    "\n",
    "    # 可视化\n",
    "    plt.plot(x_points, real_func(x_points), label=\"real\")\n",
    "    plt.plot(x_points, fit_func(p_lsq[0], x_points), label=\"fitted curve\")\n",
    "    plt.plot(x, y, \"bo\", label=\"noise\")\n",
    "    plt.legend()\n",
    "    return p_lsq"
   ]
  },
  {
   "cell_type": "markdown",
   "metadata": {
    "slideshow": {
     "slide_type": "slide"
    }
   },
   "source": [
    "如果$M=0$，多项式曲线是一个常数，数据拟合效果很差"
   ]
  },
  {
   "cell_type": "code",
   "execution_count": 5,
   "metadata": {
    "slideshow": {
     "slide_type": "subslide"
    }
   },
   "outputs": [
    {
     "name": "stdout",
     "output_type": "stream",
     "text": [
      "Fitting Parameters: [0.00470092]\n"
     ]
    },
    {
     "data": {
      "image/png": "[encoded data removed]",
      "text/plain": [
       "<Figure size 432x288 with 1 Axes>"
      ]
     },
     "metadata": {
      "needs_background": "light"
     },
     "output_type": "display_data"
    }
   ],
   "source": [
    "# M=0\n",
    "p_lsq_0 = fitting(M=0)"
   ]
  },
  {
   "cell_type": "markdown",
   "metadata": {
    "slideshow": {
     "slide_type": "slide"
    }
   },
   "source": [
    "如果$M=1$，多项式曲线是一条直线，数据拟合效果也很差"
   ]
  },
  {
   "cell_type": "code",
   "execution_count": 6,
   "metadata": {
    "slideshow": {
     "slide_type": "subslide"
    }
   },
   "outputs": [
    {
     "name": "stdout",
     "output_type": "stream",
     "text": [
      "Fitting Parameters: [-1.47640775  0.7429048 ]\n"
     ]
    },
    {
     "data": {
      "image/png": "[encoded data removed]",
      "text/plain": [
       "<Figure size 432x288 with 1 Axes>"
      ]
     },
     "metadata": {
      "needs_background": "light"
     },
     "output_type": "display_data"
    }
   ],
   "source": [
    "# M=1\n",
    "p_lsq_1 = fitting(M=1)"
   ]
  },
  {
   "cell_type": "code",
   "execution_count": 7,
   "metadata": {
    "slideshow": {
     "slide_type": "subslide"
    }
   },
   "outputs": [
    {
     "name": "stdout",
     "output_type": "stream",
     "text": [
      "Fitting Parameters: [ 19.41115264 -28.9255529    9.37999812   0.10022437]\n"
     ]
    },
    {
     "data": {
      "image/png": "[encoded data removed]",
      "text/plain": [
       "<Figure size 432x288 with 1 Axes>"
      ]
     },
     "metadata": {
      "needs_background": "light"
     },
     "output_type": "display_data"
    }
   ],
   "source": [
    "# M=3\n",
    "p_lsq_3 = fitting(M=3)"
   ]
  },
  {
   "cell_type": "markdown",
   "metadata": {
    "slideshow": {
     "slide_type": "slide"
    }
   },
   "source": [
    "相反，如果$M=9$，多项式曲线通过每个数据点，训练误差为0"
   ]
  },
  {
   "cell_type": "code",
   "execution_count": 8,
   "metadata": {
    "slideshow": {
     "slide_type": "subslide"
    }
   },
   "outputs": [
    {
     "name": "stdout",
     "output_type": "stream",
     "text": [
      "Fitting Parameters: [ 5.97842513e+03 -2.16008161e+04  2.91828979e+04 -1.63161106e+04\n",
      "  4.53488919e+02  3.72938707e+03 -1.69255037e+03  2.74279696e+02\n",
      " -9.27739544e+00  1.24967558e-01]\n"
     ]
    },
    {
     "data": {
      "image/png": "[encoded data removed]",
      "text/plain": [
       "<Figure size 432x288 with 1 Axes>"
      ]
     },
     "metadata": {
      "needs_background": "light"
     },
     "output_type": "display_data"
    }
   ],
   "source": [
    "# M=9\n",
    "p_lsq_9 = fitting(M=9)"
   ]
  },
  {
   "cell_type": "markdown",
   "metadata": {
    "slideshow": {
     "slide_type": "slide"
    }
   },
   "source": [
    "* 在多项式函数拟合中可以看到，随着多项式次数（模型复杂度）的增加，训练误差会减小，直至趋向于0\n",
    "* 但是测试误差却不如此，它会随着多项式次数（模型复杂度）的增加先减小而后增大"
   ]
  },
  {
   "cell_type": "markdown",
   "metadata": {
    "slideshow": {
     "slide_type": "slide"
    }
   },
   "source": [
    "# 权重衰减\n",
    "\n",
    "重难点\\_权重衰减.pdf"
   ]
  },
  {
   "cell_type": "markdown",
   "metadata": {
    "slideshow": {
     "slide_type": "slide"
    }
   },
   "source": [
    "* 根据之前章节所讲的，我们根据估计值与观测值之间的差异来更新$\\mathbf{w}$。\n",
    "* 然而，我们同时也在试图将$\\mathbf{w}$的大小缩小到零。\n",
    "* 这就是为什么这种方法有时被称为*权重衰减*。"
   ]
  },
  {
   "cell_type": "code",
   "execution_count": 9,
   "metadata": {
    "slideshow": {
     "slide_type": "slide"
    }
   },
   "outputs": [],
   "source": [
    "regularization = 1e-4\n",
    "\n",
    "\n",
    "def residuals_func_regularization(p, x, y):\n",
    "    ret = fit_func(p, x) - y\n",
    "    ret = np.append(ret, np.sqrt(0.5 * regularization * np.square(p)))  # L2范数作为正则化项\n",
    "    return ret"
   ]
  },
  {
   "cell_type": "markdown",
   "metadata": {
    "slideshow": {
     "slide_type": "subslide"
    }
   },
   "source": [
    "`sum(func**2, axis=0)` within `leastsq`"
   ]
  },
  {
   "cell_type": "code",
   "execution_count": 10,
   "metadata": {
    "slideshow": {
     "slide_type": "subslide"
    }
   },
   "outputs": [],
   "source": [
    "# 最小二乘法,加正则化项\n",
    "p_init = np.random.rand(9 + 1)\n",
    "p_lsq_regularization = leastsq(residuals_func_regularization, p_init, args=(x, y))"
   ]
  },
  {
   "cell_type": "code",
   "execution_count": 11,
   "metadata": {
    "slideshow": {
     "slide_type": "subslide"
    }
   },
   "outputs": [
    {
     "data": {
      "text/plain": [
       "<matplotlib.legend.Legend at 0x7fa7291e1d60>"
      ]
     },
     "execution_count": 11,
     "metadata": {},
     "output_type": "execute_result"
    },
    {
     "data": {
      "image/png": "[encoded data removed]",
      "text/plain": [
       "<Figure size 432x288 with 1 Axes>"
      ]
     },
     "metadata": {
      "needs_background": "light"
     },
     "output_type": "display_data"
    }
   ],
   "source": [
    "plt.plot(x_points, real_func(x_points), label=\"real\")\n",
    "plt.plot(x_points, fit_func(p_lsq_9[0], x_points), label=\"fitted curve\")\n",
    "plt.plot(x_points, fit_func(p_lsq_regularization[0], x_points), label=\"regularization\")\n",
    "plt.plot(x, y, \"bo\", label=\"noise\")\n",
    "plt.legend()"
   ]
  }
 ],
 "metadata": {
  "celltoolbar": "Slideshow",
  "kernelspec": {
   "display_name": "Python 3",
   "language": "python",
   "name": "python3"
  },
  "language_info": {
   "codemirror_mode": {
    "name": "ipython",
    "version": 3
   },
   "file_extension": ".py",
   "mimetype": "text/x-python",
   "name": "python",
   "nbconvert_exporter": "python",
   "pygments_lexer": "ipython3",
   "version": "3.8.8"
  }
 },
 "nbformat": 4,
 "nbformat_minor": 4
}
