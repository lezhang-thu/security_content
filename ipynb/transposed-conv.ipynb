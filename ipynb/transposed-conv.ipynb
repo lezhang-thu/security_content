{
 "cells": [
  {
   "cell_type": "markdown",
   "metadata": {},
   "source": [
    "# 转置卷积\n",
    "\n",
    "* In semantic segmentation that classifies at **pixel-level**, it will be convenient if the spatial dimensions of the input and output are **the same**\n",
    "* increase (upsample) the spatial dimensions of intermediate feature maps\n",
    "* 用于逆转下采样导致的空间尺寸减小"
   ]
  },
  {
   "cell_type": "markdown",
   "metadata": {
    "slideshow": {
     "slide_type": "slide"
    }
   },
   "source": [
    "## 基本操作\n",
    "\n",
    "阅读：转置卷积.pdf\n",
    "\n",
    "```\n",
    "def trans_conv(X, K):\n",
    "    h, w = K.shape\n",
    "    Y = torch.zeros((X.shape[0] + h - 1, X.shape[1] + w - 1))\n",
    "    for i in range(X.shape[0]):\n",
    "        for j in range(X.shape[1]):\n",
    "            Y[i: i + h, j: j + w] += X[i, j] * K\n",
    "    return Y\n",
    "```\n",
    "\n",
    "转置卷积通过卷积核“广播”输入元素，从而产生大于输入的输出"
   ]
  },
  {
   "cell_type": "markdown",
   "metadata": {
    "origin_pos": 10,
    "slideshow": {
     "slide_type": "slide"
    }
   },
   "source": [
    "## 填充、步幅和多通道\n",
    "\n",
    "* 在转置卷积中，填充被应用于输出\n",
    "* 当将高和宽两侧的填充数指定为1时，转置卷积的输出中将删除第一和最后的行与列\n"
   ]
  },
  {
   "cell_type": "markdown",
   "metadata": {
    "origin_pos": 13,
    "slideshow": {
     "slide_type": "slide"
    }
   },
   "source": [
    "### 步幅\n",
    "\n",
    "<center><img src=\"../img/trans_conv_stride2.svg\" width=\"50%\"></center>"
   ]
  },
  {
   "cell_type": "markdown",
   "metadata": {
    "origin_pos": 16,
    "slideshow": {
     "slide_type": "slide"
    }
   },
   "source": [
    "### 多通道\n",
    "\n",
    "* 假设输入有$c_i$个通道，且转置卷积为每个输入通道分配了一个$k_h\\times k_w$的卷积核张量\n",
    "* 当指定多个输出通道时，每个输出通道将有一个$c_i\\times k_h\\times k_w$的卷积核"
   ]
  },
  {
   "cell_type": "markdown",
   "metadata": {
    "origin_pos": 19,
    "slideshow": {
     "slide_type": "slide"
    }
   },
   "source": [
    "## 与矩阵变换的联系\n",
    "\n",
    "* 首先看看如何使用矩阵乘法来实现卷积\n",
    "\n",
    "```\n",
    "X = torch.arange(9.0).reshape(3, 3)\n",
    "K = torch.tensor([[1.0, 2.0], [3.0, 4.0]])\n",
    "```\n",
    "\n",
    "课堂：命令行展示`X`，解释教材中的计算结果"
   ]
  },
  {
   "cell_type": "markdown",
   "metadata": {
    "origin_pos": 21,
    "slideshow": {
     "slide_type": "slide"
    }
   },
   "source": [
    "### 使用矩阵乘法实现卷积\n",
    "\n",
    "* 将卷积核`K`重写为包含大量0的稀疏权重矩阵`W`\n",
    "* `W`的形状：$(4,9)$\n",
    "\n",
    "```\n",
    "W\n",
    "tensor([[1., 2., 0., 3., 4., 0., 0., 0., 0.],\n",
    "        [0., 1., 2., 0., 3., 4., 0., 0., 0.],\n",
    "        [0., 0., 0., 1., 2., 0., 3., 4., 0.],\n",
    "        [0., 0., 0., 0., 1., 2., 0., 3., 4.]])\n",
    "```\n",
    "\n"
   ]
  },
  {
   "cell_type": "markdown",
   "metadata": {
    "slideshow": {
     "slide_type": "slide"
    }
   },
   "source": [
    "\n",
    "* `torch.matmul(W, X.reshape(-1)).reshape(2, 2)`\n",
    "\n",
    "  （可以获得同样的结果）\n",
    "* 阅读：转置卷积.pdf"
   ]
  }
 ],
 "metadata": {
  "celltoolbar": "Slideshow",
  "kernelspec": {
   "display_name": "Python 3",
   "language": "python",
   "name": "python3"
  },
  "language_info": {
   "codemirror_mode": {
    "name": "ipython",
    "version": 3
   },
   "file_extension": ".py",
   "mimetype": "text/x-python",
   "name": "python",
   "nbconvert_exporter": "python",
   "pygments_lexer": "ipython3",
   "version": "3.8.8"
  }
 },
 "nbformat": 4,
 "nbformat_minor": 4
}
