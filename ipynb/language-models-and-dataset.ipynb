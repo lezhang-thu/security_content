{
 "cells": [
  {
   "cell_type": "markdown",
   "metadata": {
    "slideshow": {
     "slide_type": "slide"
    }
   },
   "source": [
    "# 语言模型\n",
    "\n",
    "[语言模型](https://www.bilibili.com/video/BV1ZX4y1F7K3?p=1)"
   ]
  },
  {
   "cell_type": "markdown",
   "metadata": {
    "slideshow": {
     "slide_type": "slide"
    }
   },
   "source": [
    "## 自然语言统计\n",
    "\n",
    "* 时光机器数据集\n",
    "* the top 10 most frequent words\n",
    "\n",
    "```\n",
    "[('the', 2261),\n",
    " ('i', 1267),\n",
    " ('and', 1245),\n",
    " ('of', 1155),\n",
    " ('a', 816),\n",
    " ('to', 695),\n",
    " ('was', 552),\n",
    " ('in', 541),\n",
    " ('that', 443),\n",
    " ('my', 440)]\n",
    "```"
   ]
  },
  {
   "cell_type": "markdown",
   "metadata": {
    "origin_pos": 5,
    "slideshow": {
     "slide_type": "slide"
    }
   },
   "source": [
    "* the most popular words are actually quite boring to look at\n",
    "  \n",
    "  *stop words*（可以被过滤掉）\n",
    "* 词频衰减的速度相当地快\n"
   ]
  },
  {
   "cell_type": "markdown",
   "metadata": {
    "slideshow": {
     "slide_type": "slide"
    }
   },
   "source": [
    "* the word frequency decays rapidly in a well-defined way\n",
    "* After dealing with the first few words as exceptions, all the remaining words roughly follow a straight line on a log-log plot\n",
    "* *齐普夫定律*（Zipf's law）\n",
    "  \n",
    "  the frequency $n_i$ of the $i^\\mathrm{th}$ most frequent word\n",
    "  \n",
    "  $$n_i \\propto \\frac{1}{i^\\alpha}$$\n",
    "  \n",
    "  $$\\log n_i = -\\alpha \\log i + c$$"
   ]
  },
  {
   "cell_type": "markdown",
   "metadata": {
    "slideshow": {
     "slide_type": "slide"
    }
   },
   "source": [
    "### unigrams, bigrams, and trigrams\n",
    "\n",
    "[直观地对比三种模型中的词元频率](https://www.bilibili.com/video/BV1ZX4y1F7K3?p=2)"
   ]
  }
 ],
 "metadata": {
  "celltoolbar": "Slideshow",
  "kernelspec": {
   "display_name": "Python 3",
   "language": "python",
   "name": "python3"
  },
  "language_info": {
   "codemirror_mode": {
    "name": "ipython",
    "version": 3
   },
   "file_extension": ".py",
   "mimetype": "text/x-python",
   "name": "python",
   "nbconvert_exporter": "python",
   "pygments_lexer": "ipython3",
   "version": "3.8.8"
  }
 },
 "nbformat": 4,
 "nbformat_minor": 4
}
