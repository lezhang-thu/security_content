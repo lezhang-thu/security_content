{
 "cells": [
  {
   "cell_type": "markdown",
   "metadata": {
    "slideshow": {
     "slide_type": "slide"
    }
   },
   "source": [
    "# 区域卷积神经网络（R-CNN）\n",
    "\n",
    "* 区域卷积神经网络（region-based CNN或regions with CNN features，R-CNN） \n",
    "* 快速的R-CNN（Fast R-CNN）\n",
    "* 更快的R-CNN（Faster R-CNN）\n",
    "* 掩码R-CNN（Mask R-CNN）"
   ]
  },
  {
   "cell_type": "markdown",
   "metadata": {
    "slideshow": {
     "slide_type": "slide"
    }
   },
   "source": [
    "## R-CNN\n",
    "\n",
    "* 阅读：区域卷积神经网络\\_R-CNNs.pdf\n",
    "* 每个提议区域都将被标注类别和真实边界框\n",
    "* 将每个提议区域变形为网络需要的输入尺寸\n"
   ]
  },
  {
   "cell_type": "markdown",
   "metadata": {
    "slideshow": {
     "slide_type": "slide"
    }
   },
   "source": [
    "### 训练\n",
    "\n",
    "* 训练多个支持向量机对目标分类\n",
    "* 训练线性回归模型来预测真实边界框"
   ]
  },
  {
   "cell_type": "markdown",
   "metadata": {
    "slideshow": {
     "slide_type": "slide"
    }
   },
   "source": [
    "### 不足\n",
    "\n",
    "* 速度很慢\n",
    "* 可能从一张图像中选出上千个提议区域\n",
    "* 上千次的卷积神经网络的前向传播"
   ]
  },
  {
   "cell_type": "markdown",
   "metadata": {
    "slideshow": {
     "slide_type": "slide"
    }
   },
   "source": [
    "## Fast R-CNN\n",
    "\n",
    "**回顾R-CNN**\n",
    "\n",
    "* 对每个提议区域，卷积神经网络的前向传播是独立的，而没有共享计算\n",
    "* 这些区域通常有重叠，独立的特征抽取会导致重复的计算"
   ]
  },
  {
   "cell_type": "markdown",
   "metadata": {
    "slideshow": {
     "slide_type": "slide"
    }
   },
   "source": [
    "### region of interest (RoI) pooling layer\n",
    "\n",
    "* 仅在整张图象上执行卷积神经网络的前向传播\n",
    "* Suppose that selective search generates $n$ region proposals\n",
    "* These region proposals (of different shapes) mark regions of interest (of different shapes) on the CNN output"
   ]
  },
  {
   "cell_type": "markdown",
   "metadata": {
    "slideshow": {
     "slide_type": "slide"
    }
   },
   "source": [
    "* 输入图像：$40\\times 40$\n",
    "* \n",
    "```\n",
    "X = torch.arange(16.).reshape(1, 1, 4, 4)\n",
    "tensor([[[[ 0.,  1.,  2.,  3.],\n",
    "          [ 4.,  5.,  6.,  7.],\n",
    "          [ 8.,  9., 10., 11.],\n",
    "          [12., 13., 14., 15.]]]])\n",
    "```\n",
    "* 两个提议区域\n",
    "```\n",
    "rois = torch.Tensor(\n",
    "    [[0, 0, 0, 20, 20], [0, 0, 10, 30, 30]])\n",
    "```"
   ]
  },
  {
   "cell_type": "markdown",
   "metadata": {
    "slideshow": {
     "slide_type": "slide"
    }
   },
   "source": [
    "* `spatial_scale=0.1`\n",
    "* 两个兴趣区域`X[:, :, 0:3, 0:3]`和`X[:, :, 1:4, 0:4]`\n",
    "* 这些感兴趣的区域需要进一步抽取出形状相同的特征（in order to be easily concatenated）"
   ]
  },
  {
   "cell_type": "markdown",
   "metadata": {
    "slideshow": {
     "slide_type": "slide"
    }
   },
   "source": [
    "### RoI pooling layer\n",
    "\n",
    "* 每个区域输出的高和宽分别为$h_2$和$w_2$\n",
    "* 形状为$h \\times w$的兴趣区域窗口\n",
    "* 该窗口将被划分为$h_2 \\times w_2$子窗口网格，其中每个子窗口的大小约为$\\tfrac{h}{h_2} \\times \\tfrac{w}{w_2}$\n",
    "* 最大元素作为该子窗口的输出\n",
    "* 阅读：区域卷积神经网络\\_R-CNNs.pdf"
   ]
  },
  {
   "cell_type": "markdown",
   "metadata": {
    "slideshow": {
     "slide_type": "slide"
    }
   },
   "source": [
    "阅读实例：\n",
    "\n",
    "```\n",
    "torchvision.ops.roi_pool(X, \n",
    "    rois, output_size=(2, 2), spatial_scale=0.1)\n",
    "```"
   ]
  },
  {
   "cell_type": "markdown",
   "metadata": {
    "slideshow": {
     "slide_type": "slide"
    }
   },
   "source": [
    "## Faster R-CNN\n",
    "\n",
    "阅读：区域卷积神经网络\\_R-CNNs.pdf"
   ]
  },
  {
   "cell_type": "markdown",
   "metadata": {
    "slideshow": {
     "slide_type": "slide"
    }
   },
   "source": [
    "### region proposal network\n",
    "\n",
    "* 输入：an image (of any size)\n",
    "* 输出：a set of rectangular object proposals, each with an objectness score.\n",
    "\n",
    "<center><img src=\"../img/Region_Proposal_Network.png\" width=\"40%\"></center>"
   ]
  },
  {
   "cell_type": "markdown",
   "metadata": {
    "slideshow": {
     "slide_type": "slide"
    }
   },
   "source": [
    "### “滑动窗口 + 锚框”之滑动窗口\n",
    "\n",
    "1. slide a small network over the convolutional feature map\n",
    "\n",
    "   $3\\times 3$ spatial window\n",
    "1. two sibling fully-connected layers（$1\\times 1$卷积实现）\n",
    "    * a box-regression layer\n",
    "    * a box-classification layer\n",
    "\n",
    "（结合上一slide中的figure）"
   ]
  },
  {
   "cell_type": "markdown",
   "metadata": {
    "slideshow": {
     "slide_type": "slide"
    }
   },
   "source": [
    "### “滑动窗口 + 锚框”之锚框\n",
    "\n",
    "* 最多$k$个proposals\n",
    "* $k$个proposals：parameterized *relative* to $k$ reference boxes (*anchors*)\n",
    "* 3 scales and 3 aspect ratios：$k = 9$ anchors\n",
    "* 卷积特征图：$W\\times H$\n",
    "* 总共$W Hk$ anchors"
   ]
  },
  {
   "cell_type": "markdown",
   "metadata": {
    "slideshow": {
     "slide_type": "slide"
    }
   },
   "source": [
    "### 训练RPN网络\n",
    "\n",
    "\\begin{equation*}\n",
    "\\begin{aligned}\n",
    "t_{\\textrm{x}} &=  (x - x_{\\textrm{a}})/w_{\\textrm{a}},\\quad\n",
    "t_{\\textrm{y}} = (y - y_{\\textrm{a}})/h_{\\textrm{a}},\\\\\n",
    "t_{\\textrm{w}} &= \\log(w / w_{\\textrm{a}}), \\quad\n",
    "t_{\\textrm{h}} = \\log(h / h_{\\textrm{a}}),\\\\\n",
    "t^{*}_{\\textrm{x}} &=  (x^{*} - x_{\\textrm{a}})/w_{\\textrm{a}},\\quad\n",
    "t^{*}_{\\textrm{y}} = (y^{*} - y_{\\textrm{a}})/h_{\\textrm{a}},\\\\\n",
    "t^{*}_{\\textrm{w}} &= \\log(w^{*} / w_{\\textrm{a}}),\\quad\n",
    "t^{*}_{\\textrm{h}} = \\log(h^{*} / h_{\\textrm{a}}),\n",
    "\\end{aligned}\n",
    "\\end{equation*}\n",
    "\n",
    "* $x,y$：center的坐标；$w,h$：宽、高\n",
    "* $x,x_a,x^*$：predicted box, anchor box, and ground-truth box"
   ]
  },
  {
   "cell_type": "markdown",
   "metadata": {
    "slideshow": {
     "slide_type": "slide"
    }
   },
   "source": [
    "### Faster R-CNN总结\n",
    "\n",
    "* 之前：\n",
    "    * bounding-box regression is performed on features pooled from *arbitrarily* sized RoIs\n",
    "    * the regression weights are *shared* by all region sizes\n"
   ]
  },
  {
   "cell_type": "markdown",
   "metadata": {
    "slideshow": {
     "slide_type": "slide"
    }
   },
   "source": [
    "\n",
    "\n",
    "**thanks to the design of anchors**\n",
    " \n",
    "* Faster R-CNN中：\n",
    "    * the features used for regression are of the *same* spatial size ($3\\times 3$) on the feature maps\n",
    "    * varying sizes如何处理呢\n",
    "    * $k$个bounding-box regressors\n",
    "    * 每个regressor：responsible for one scale and one aspect ratio\n",
    "    * regressors之间：do *not* share weights"
   ]
  }
 ],
 "metadata": {
  "celltoolbar": "Slideshow",
  "kernelspec": {
   "display_name": "Python 3",
   "language": "python",
   "name": "python3"
  },
  "language_info": {
   "codemirror_mode": {
    "name": "ipython",
    "version": 3
   },
   "file_extension": ".py",
   "mimetype": "text/x-python",
   "name": "python",
   "nbconvert_exporter": "python",
   "pygments_lexer": "ipython3",
   "version": "3.8.8"
  }
 },
 "nbformat": 4,
 "nbformat_minor": 4
}
