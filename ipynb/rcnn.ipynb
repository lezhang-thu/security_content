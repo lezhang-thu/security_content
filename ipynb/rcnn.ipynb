{
 "cells": [
  {
   "cell_type": "markdown",
   "metadata": {
    "slideshow": {
     "slide_type": "slide"
    }
   },
   "source": [
    "# 区域卷积神经网络（R-CNN）\n",
    "\n",
    "* 区域卷积神经网络（region-based CNN或regions with CNN features，R-CNN） \n",
    "* 快速的R-CNN（Fast R-CNN）\n",
    "* 更快的R-CNN（Faster R-CNN）\n",
    "* 掩码R-CNN（Mask R-CNN）"
   ]
  },
  {
   "cell_type": "markdown",
   "metadata": {
    "slideshow": {
     "slide_type": "slide"
    }
   },
   "source": [
    "## R-CNN\n",
    "\n",
    "* 阅读：区域卷积神经网络\\_R-CNNs.pdf\n",
    "* 每个提议区域都将被标注类别和真实边界框\n",
    "* 将每个提议区域变形为网络需要的输入尺寸\n"
   ]
  },
  {
   "cell_type": "markdown",
   "metadata": {
    "slideshow": {
     "slide_type": "slide"
    }
   },
   "source": [
    "* 训练多个支持向量机对目标分类\n",
    "* 训练线性回归模型来预测真实边界框"
   ]
  },
  {
   "cell_type": "markdown",
   "metadata": {
    "slideshow": {
     "slide_type": "slide"
    }
   },
   "source": [
    "### 不足\n",
    "\n",
    "* 速度很慢\n",
    "* 可能从一张图像中选出上千个提议区域\n",
    "* 上千次的卷积神经网络的前向传播"
   ]
  },
  {
   "cell_type": "markdown",
   "metadata": {
    "slideshow": {
     "slide_type": "slide"
    }
   },
   "source": [
    "## Fast R-CNN\n",
    "\n",
    "**回顾R-CNN**\n",
    "\n",
    "* 对每个提议区域，卷积神经网络的前向传播是独立的，而没有共享计算\n",
    "* 这些区域通常有重叠，独立的特征抽取会导致重复的计算"
   ]
  },
  {
   "cell_type": "markdown",
   "metadata": {
    "slideshow": {
     "slide_type": "slide"
    }
   },
   "source": [
    "### region of interest (RoI) pooling layer\n",
    "\n",
    "* 仅在整张图象上执行卷积神经网络的前向传播\n",
    "* Suppose that selective search generates $n$ region proposals\n",
    "* These region proposals (of different shapes) mark regions of interest (of different shapes) on the CNN output"
   ]
  },
  {
   "cell_type": "markdown",
   "metadata": {
    "slideshow": {
     "slide_type": "slide"
    }
   },
   "source": [
    "* 输入图像：$40\\times 40$\n",
    "* \n",
    "```\n",
    "X = torch.arange(16.).reshape(1, 1, 4, 4)\n",
    "tensor([[[[ 0.,  1.,  2.,  3.],\n",
    "          [ 4.,  5.,  6.,  7.],\n",
    "          [ 8.,  9., 10., 11.],\n",
    "          [12., 13., 14., 15.]]]])\n",
    "```\n",
    "* 两个提议区域\n",
    "```\n",
    "rois = torch.Tensor([[0, 0, 0, 20, 20], [0, 0, 10, 30, 30]])\n",
    "```"
   ]
  },
  {
   "cell_type": "markdown",
   "metadata": {
    "slideshow": {
     "slide_type": "slide"
    }
   },
   "source": [
    "* `spatial_scale=0.1`\n",
    "* 两个兴趣区域`X[:, :, 0:3, 0:3]`和`X[:, :, 1:4, 0:4]`\n",
    "* 这些感兴趣的区域需要进一步抽取出形状相同的特征（in order to be easily concatenated）"
   ]
  },
  {
   "cell_type": "markdown",
   "metadata": {
    "slideshow": {
     "slide_type": "slide"
    }
   },
   "source": [
    "### RoI pooling layer\n",
    "\n",
    "* 每个区域输出的高和宽分别为$h_2$和$w_2$\n",
    "* 形状为$h \\times w$的兴趣区域窗口\n",
    "* 该窗口将被划分为$h_2 \\times w_2$子窗口网格，其中每个子窗口的大小约为$\\tfrac{h}{h_2} \\times \\tfrac{w}{w_2}$\n",
    "* 最大元素作为该子窗口的输出\n",
    "* 阅读：区域卷积神经网络\\_R-CNNs.pdf"
   ]
  },
  {
   "cell_type": "markdown",
   "metadata": {
    "slideshow": {
     "slide_type": "slide"
    }
   },
   "source": [
    "阅读实例：\n",
    "\n",
    "```\n",
    "torchvision.ops.roi_pool(X, \n",
    "    rois, output_size=(2, 2), spatial_scale=0.1)\n",
    "```"
   ]
  },
  {
   "cell_type": "markdown",
   "metadata": {
    "slideshow": {
     "slide_type": "slide"
    }
   },
   "source": [
    "## Faster R-CNN\n",
    "\n",
    "阅读：区域卷积神经网络\\_R-CNNs.pdf\n",
    "\n",
    "* transform the CNN output to a new output with $c$ channels：$3\\times 3$卷积，填充1"
   ]
  },
  {
   "cell_type": "markdown",
   "metadata": {
    "slideshow": {
     "slide_type": "slide"
    }
   },
   "source": [
    "### region proposal network\n",
    "\n",
    "* 以特征图的每个像素为中心，generate multiple anchor boxes of different scales and aspect ratios and label them\n",
    "* $c$ channels：分别预测锚框的二元类别（含目标还是背景）和边界框\n",
    "* NMS：从预测类别为目标的预测边界框中移除相似的结果\n",
    "\n",
    "Faster R-CNN的目标函数中：区域提议网络中锚框的二元类别和边界框预测"
   ]
  }
 ],
 "metadata": {
  "celltoolbar": "Slideshow",
  "kernelspec": {
   "display_name": "Python 3",
   "language": "python",
   "name": "python3"
  },
  "language_info": {
   "codemirror_mode": {
    "name": "ipython",
    "version": 3
   },
   "file_extension": ".py",
   "mimetype": "text/x-python",
   "name": "python",
   "nbconvert_exporter": "python",
   "pygments_lexer": "ipython3",
   "version": "3.8.8"
  }
 },
 "nbformat": 4,
 "nbformat_minor": 4
}
