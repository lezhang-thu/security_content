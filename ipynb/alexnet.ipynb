{
 "cells": [
  {
   "cell_type": "markdown",
   "metadata": {
    "slideshow": {
     "slide_type": "slide"
    }
   },
   "source": [
    "# 深度卷积神经网络\n",
    "\n",
    "* 卷积神经网络\n",
    "* 在更大、更真实的数据集上训练卷积神经网络的性能和可行性还有待研究"
   ]
  },
  {
   "cell_type": "markdown",
   "metadata": {
    "slideshow": {
     "slide_type": "slide"
    }
   },
   "source": [
    "**classical pipelines**\n",
    "\n",
    "1. Preprocess the dataset with **hand-crafted features** based on some knowledge of optics, geometry, other analytic tools, and occasionally on the serendipitous discoveries of lucky graduate students.\n",
    "1. Feed the data through a standard set of **feature extractors** such as the SIFT (scale-invariant feature transform) , the SURF (speeded up robust features), or any number of other hand-tuned pipelines."
   ]
  },
  {
   "cell_type": "markdown",
   "metadata": {
    "slideshow": {
     "slide_type": "slide"
    }
   },
   "source": [
    "**计算机视觉研究人员**\n",
    "\n",
    "* 推动领域进步的是数据特征，而不是学习算法\n",
    "* 从对最终模型精度的影响来说，更大或更干净的数据集、或是稍微改进的特征提取，比任何学习算法带来的进步要大得多\n"
   ]
  },
  {
   "cell_type": "markdown",
   "metadata": {
    "slideshow": {
     "slide_type": "slide"
    }
   },
   "source": [
    "## 学习表征\n",
    "\n",
    "* the most important part of the pipeline was the representation\n",
    "* 在2012年前，图像特征都是机械地计算出来的\n",
    "* 事实上，设计一套新的特征函数、改进结果，并撰写论文是盛极一时的潮流"
   ]
  },
  {
   "cell_type": "markdown",
   "metadata": {
    "slideshow": {
     "slide_type": "slide"
    }
   },
   "source": [
    "## 学习表征\n",
    "\n",
    "* 特征本身应该被学习\n",
    "* the features ought to be hierarchically composed with multiple jointly learned layers, each with learnable parameters\n",
    "* In the case of an image, the lowest layers might come to detect edges, colors, and textures."
   ]
  },
  {
   "cell_type": "markdown",
   "metadata": {
    "slideshow": {
     "slide_type": "slide"
    }
   },
   "source": [
    "### 数据\n",
    "\n",
    "* 2009年，ImageNet数据集发布，并发起ImageNet挑战赛：要求研究人员从100万个样本中训练模型，以区分1000个不同类别的对象\n",
    "* ImageNet Challenge\n",
    "    * which models performed best at a greater scale than academics had previously considered"
   ]
  },
  {
   "cell_type": "markdown",
   "metadata": {
    "slideshow": {
     "slide_type": "slide"
    }
   },
   "source": [
    "### 硬件\n",
    "\n",
    "* CPU\n",
    "    * CPU的每个核心都拥有高时钟频率的运行能力，和高达数MB的三级缓存（L3Cache）\n",
    "    * 通用核心的制造成本非常高\n",
    "* GPU\n",
    "    * 由$100 \\sim 1000$个小的处理单元组成\n",
    "    * 每个GPU核心都相对较弱，有时甚至以低于1GHz的时钟频率运行"
   ]
  },
  {
   "cell_type": "markdown",
   "metadata": {
    "slideshow": {
     "slide_type": "slide"
    }
   },
   "source": [
    "### 硬件\n",
    "\n",
    "* GPU\n",
    "    * 但庞大的核心数量使GPU比CPU快几个数量级；\n",
    "        * power consumption tends to grow *quadratically* with clock frequency\n",
    "        * for the power budget of a CPU core that runs 4 times faster (a typical number),\n",
    "you can use 16 GPU cores at $1/4$ the speed,\n",
    "which yields $16 \\times 1/4 = 4$ times the performance\n",
    "    * GPU cores are much simpler\n",
    "(in fact, for a long time they were not even *able*\n",
    "to execute general-purpose code),\n",
    "which makes them more energy efficient"
   ]
  },
  {
   "cell_type": "markdown",
   "metadata": {
    "slideshow": {
     "slide_type": "slide"
    }
   },
   "source": [
    "### 硬件\n",
    "\n",
    "* 卷积神经网络中的计算瓶颈：卷积和矩阵乘法，都是可以在硬件上并行化的操作\n",
    "* AlexNet：使用两个显存为3GB的NVIDIA GTX580 GPU实现了快速卷积运算"
   ]
  },
  {
   "cell_type": "markdown",
   "metadata": {
    "slideshow": {
     "slide_type": "slide"
    }
   },
   "source": [
    "## AlexNet\n",
    "\n",
    "* 2012年，AlexNet横空出世\n",
    "    * 它首次证明了学习到的特征可以超越手工设计的特征\n",
    "* 一举打破了计算机视觉研究的现状\n",
    "* AlexNet使用了8层卷积神经网络，并以很大的优势赢得了2012年ImageNet图像识别挑战赛"
   ]
  },
  {
   "cell_type": "markdown",
   "metadata": {
    "slideshow": {
     "slide_type": "slide"
    }
   },
   "source": [
    "## AlexNet\n",
    "\n",
    "[深度卷积神经网络（AlexNet）](https://www.bilibili.com/video/BV1h54y1L7oe?p=1)\n",
    "\n",
    "仅AlexNet和之前人工特征提取的对比"
   ]
  },
  {
   "cell_type": "markdown",
   "metadata": {
    "slideshow": {
     "slide_type": "slide"
    }
   },
   "source": [
    "## AlexNet\n",
    "\n",
    "<center><img src=\"../img/alexnet.svg\" width=\"30%\"></center>\n",
    "<center>从LeNet（左）到AlexNet（右）</center>"
   ]
  },
  {
   "cell_type": "markdown",
   "metadata": {
    "slideshow": {
     "slide_type": "slide"
    }
   },
   "source": [
    "## AlexNet\n",
    "\n",
    "* AlexNet和LeNet的设计理念非常相似，但也存在显著差异\n",
    "* AlexNet比相对较小的LeNet5要深得多\n",
    "* 在AlexNet的第一层，卷积窗口的形状是$11\\times11$（更大的卷积窗口）\n",
    "* AlexNet的卷积通道数目是LeNet的10倍\n",
    "* 在最后一个卷积层后有两个全连接层，分别有4096个输出\n",
    "    * 这两个巨大的全连接层拥有将近1GB的模型参数"
   ]
  },
  {
   "cell_type": "markdown",
   "metadata": {
    "slideshow": {
     "slide_type": "slide"
    }
   },
   "source": [
    "### 激活函数\n",
    "* ReLU激活函数的计算更简单\n",
    "* 如果模型参数没有正确初始化\n",
    "    * sigmoid函数可能在正区间内得到几乎为0的梯度\n",
    "    * 从而使模型无法得到有效的训练"
   ]
  },
  {
   "cell_type": "markdown",
   "metadata": {
    "slideshow": {
     "slide_type": "slide"
    }
   },
   "source": [
    "### Capacity Control and Preprocessing\n",
    "\n",
    "* AlexNet通过暂退法控制全连接层的模型复杂度，而LeNet只使用了权重衰减\n",
    "* AlexNet在训练时增加了大量的图像增强数据，如翻转、裁切和变色\n",
    "    * 这使得模型更健壮，更大的样本量有效地减少了过拟合"
   ]
  },
  {
   "cell_type": "code",
   "execution_count": 1,
   "metadata": {
    "slideshow": {
     "slide_type": "slide"
    }
   },
   "outputs": [],
   "source": [
    "import torch\n",
    "from d2l import torch as d2l\n",
    "from torch import nn\n",
    "\n",
    "net = nn.Sequential(\n",
    "    # 这里，我们使用一个11*11的更大窗口来捕捉对象。\n",
    "    # 同时，步幅为4，以减少输出的高度和宽度。\n",
    "    # 另外，输出通道的数目远大于LeNet\n",
    "    nn.Conv2d(1, 96, kernel_size=11, stride=4, padding=1),\n",
    "    nn.ReLU(),\n",
    "    nn.MaxPool2d(kernel_size=3, stride=2),\n",
    "    # 减小卷积窗口，使用填充为2来使得输入与输出的高和宽一致，且增大输出通道数\n",
    "    nn.Conv2d(96, 256, kernel_size=5, padding=2),\n",
    "    nn.ReLU(),\n",
    "    nn.MaxPool2d(kernel_size=3, stride=2),\n",
    "    # 使用三个连续的卷积层和较小的卷积窗口。\n",
    "    # 除了最后的卷积层，输出通道的数量进一步增加。\n",
    "    # 在前两个卷积层之后，池化层不用于减少输入的高度和宽度\n",
    "    nn.Conv2d(256, 384, kernel_size=3, padding=1),\n",
    "    nn.ReLU(),\n",
    "    nn.Conv2d(384, 384, kernel_size=3, padding=1),\n",
    "    nn.ReLU(),\n",
    "    nn.Conv2d(384, 256, kernel_size=3, padding=1),\n",
    "    nn.ReLU(),\n",
    "    nn.MaxPool2d(kernel_size=3, stride=2),\n",
    "    nn.Flatten(),\n",
    "    # 这里，全连接层的输出数量是LeNet中的好几倍。使用dropout层来减轻过拟合\n",
    "    nn.Linear(6400, 4096),\n",
    "    nn.ReLU(),\n",
    "    nn.Dropout(p=0.5),\n",
    "    nn.Linear(4096, 4096),\n",
    "    nn.ReLU(),\n",
    "    nn.Dropout(p=0.5),\n",
    "    # 最后是输出层。由于这里使用Fashion-MNIST，所以用类别数为10，而非论文中的1000\n",
    "    nn.Linear(4096, 10),\n",
    ")"
   ]
  },
  {
   "cell_type": "markdown",
   "metadata": {
    "slideshow": {
     "slide_type": "slide"
    }
   },
   "source": [
    "构造一个单通道数据，来观察每一层输出的形状\n",
    "\n",
    "$n_h$：高度；$p_h$：填充；$s_h$：步幅\n",
    "\n",
    "$$\n",
    "\\lfloor(n_h-k_h+p_h+s_h)/s_h\\rfloor\n",
    "$$"
   ]
  },
  {
   "cell_type": "code",
   "execution_count": 2,
   "metadata": {
    "origin_pos": 6,
    "slideshow": {
     "slide_type": "slide"
    },
    "tab": [
     "pytorch"
    ]
   },
   "outputs": [
    {
     "name": "stdout",
     "output_type": "stream",
     "text": [
      "Conv2d output shape:\t torch.Size([1, 96, 54, 54])\n",
      "ReLU output shape:\t torch.Size([1, 96, 54, 54])\n",
      "MaxPool2d output shape:\t torch.Size([1, 96, 26, 26])\n",
      "Conv2d output shape:\t torch.Size([1, 256, 26, 26])\n",
      "ReLU output shape:\t torch.Size([1, 256, 26, 26])\n",
      "MaxPool2d output shape:\t torch.Size([1, 256, 12, 12])\n",
      "Conv2d output shape:\t torch.Size([1, 384, 12, 12])\n",
      "ReLU output shape:\t torch.Size([1, 384, 12, 12])\n",
      "Conv2d output shape:\t torch.Size([1, 384, 12, 12])\n",
      "ReLU output shape:\t torch.Size([1, 384, 12, 12])\n",
      "Conv2d output shape:\t torch.Size([1, 256, 12, 12])\n",
      "ReLU output shape:\t torch.Size([1, 256, 12, 12])\n",
      "MaxPool2d output shape:\t torch.Size([1, 256, 5, 5])\n",
      "Flatten output shape:\t torch.Size([1, 6400])\n",
      "Linear output shape:\t torch.Size([1, 4096])\n",
      "ReLU output shape:\t torch.Size([1, 4096])\n",
      "Dropout output shape:\t torch.Size([1, 4096])\n",
      "Linear output shape:\t torch.Size([1, 4096])\n",
      "ReLU output shape:\t torch.Size([1, 4096])\n",
      "Dropout output shape:\t torch.Size([1, 4096])\n",
      "Linear output shape:\t torch.Size([1, 10])\n"
     ]
    }
   ],
   "source": [
    "X = torch.randn(1, 1, 224, 224)\n",
    "for layer in net:\n",
    "    X = layer(X)\n",
    "    print(layer.__class__.__name__, \"output shape:\\t\", X.shape)"
   ]
  },
  {
   "cell_type": "markdown",
   "metadata": {
    "slideshow": {
     "slide_type": "slide"
    }
   },
   "source": [
    "## 总结\n",
    "\n",
    "* AlexNet的架构与LeNet相似，但使用了更多的卷积层和更多的参数来拟合大规模的ImageNet数据集\n",
    "* AlexNet是从浅层网络到深层网络的关键一步\n",
    "* 尽管AlexNet的代码只比LeNet多出几行，但学术界花了很多年才接受深度学习这一概念"
   ]
  }
 ],
 "metadata": {
  "celltoolbar": "Slideshow",
  "kernelspec": {
   "display_name": "Python 3",
   "language": "python",
   "name": "python3"
  },
  "language_info": {
   "codemirror_mode": {
    "name": "ipython",
    "version": 3
   },
   "file_extension": ".py",
   "mimetype": "text/x-python",
   "name": "python",
   "nbconvert_exporter": "python",
   "pygments_lexer": "ipython3",
   "version": "3.8.8"
  }
 },
 "nbformat": 4,
 "nbformat_minor": 4
}
