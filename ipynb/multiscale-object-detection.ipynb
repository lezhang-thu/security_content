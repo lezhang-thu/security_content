{
 "cells": [
  {
   "cell_type": "markdown",
   "metadata": {
    "slideshow": {
     "slide_type": "slide"
    }
   },
   "source": [
    "# 多尺度目标检测\n",
    "\n",
    "* 以输入图像的每个像素为中心，生成多个锚框\n",
    "* 输入图像：$561 \\times 728$\n",
    "* 超过200万个锚框"
   ]
  },
  {
   "cell_type": "markdown",
   "metadata": {
    "slideshow": {
     "slide_type": "slide"
    }
   },
   "source": [
    "## 多尺度锚框\n",
    "\n",
    "* 在特征图上生成锚框\n",
    "* 锚框的中心分布于特征图上的所有单位\n",
    "* 这些中心必须根据其相对空间位置在任何输入图像上*均匀*分布\n",
    "\n",
    "课堂：\n",
    "* 特征图大小：$4\\times 4$、$2\\times 2$、$1\\times 1$\n",
    "* 锚框映射到原图像"
   ]
  },
  {
   "cell_type": "markdown",
   "metadata": {
    "slideshow": {
     "slide_type": "slide"
    }
   },
   "source": [
    "## 多尺度检测\n",
    "\n",
    "* 特征图在相同空间位置的$c$个单元在输入图像上的感受野相同\n",
    "\n",
    "  （表征同一感受野内的输入图像信息）\n",
    "* 变换为使用此空间位置生成的$a$个锚框的类别和偏移量"
   ]
  },
  {
   "cell_type": "markdown",
   "metadata": {
    "slideshow": {
     "slide_type": "slide"
    }
   },
   "source": [
    "### 不同层的特征图\n",
    "\n",
    "* 分别拥有不同大小的感受野\n",
    "* 可以用于检测不同大小的目标\n",
    "* 靠近输出层的特征图单元具有更宽的感受野，可以从输入图像中检测到较大的目标\n",
    "\n",
    "**总结：**在多个层次上对图像进行分层表示，从而实现多尺度目标检测"
   ]
  }
 ],
 "metadata": {
  "celltoolbar": "Slideshow",
  "kernelspec": {
   "display_name": "Python 3",
   "language": "python",
   "name": "python3"
  },
  "language_info": {
   "codemirror_mode": {
    "name": "ipython",
    "version": 3
   },
   "file_extension": ".py",
   "mimetype": "text/x-python",
   "name": "python",
   "nbconvert_exporter": "python",
   "pygments_lexer": "ipython3",
   "version": "3.8.8"
  }
 },
 "nbformat": 4,
 "nbformat_minor": 4
}
