{
 "cells": [
  {
   "cell_type": "markdown",
   "metadata": {
    "slideshow": {
     "slide_type": "slide"
    }
   },
   "source": [
    "## 分布偏移的类型\n",
    "\n",
    "* 假设训练数据是从某个分布$p_S(\\mathbf{x},y)$中采样的，但是测试数据将包含从不同分布$p_T(\\mathbf{x},y)$中抽取的未标记样本"
   ]
  },
  {
   "cell_type": "markdown",
   "metadata": {
    "slideshow": {
     "slide_type": "slide"
    }
   },
   "source": [
    "### 协变量偏移 / Covariate Shift\n",
    "\n",
    "* 由于协变量（特征）分布的变化而产生的\n",
    "* 虽然输入的分布可能随时间而改变，但$P(y \\mid \\mathbf{x})$没有改变"
   ]
  },
  {
   "cell_type": "markdown",
   "metadata": {
    "slideshow": {
     "slide_type": "slide"
    }
   },
   "source": [
    "### 协变量偏移\n",
    "\n",
    "<center><img src=\"cat-dog-train.svg\" width=\"50%\"></center>\n",
    "<center>区分猫和狗的训练数据</center>\n",
    "\n",
    "<center><img src=\"cat-dog-test.svg\" width=\"50%\"></center>\n",
    "<center>区分猫和狗的测试数据</center>"
   ]
  },
  {
   "cell_type": "markdown",
   "metadata": {
    "slideshow": {
     "slide_type": "slide"
    }
   },
   "source": [
    "## 分布偏移纠正\n",
    "\n",
    "* 在许多情况下训练和测试分布$P(\\mathbf{x}, y)$是不同的\n",
    "\n"
   ]
  },
  {
   "cell_type": "markdown",
   "metadata": {
    "slideshow": {
     "slide_type": "slide"
    }
   },
   "source": [
    "### 经验风险与实际风险\n",
    "\n",
    "* *经验风险*（empirical risk）\n",
    "$$\\mathop{\\mathrm{minimize}}_f \\frac{1}{n} \\sum_{i=1}^n l(f(\\mathbf{x}_i), y_i)$$\n",
    "* *真实风险*（true risk）：从其真实分布$p(\\mathbf{x},y)$中抽取的所有数据的总体损失的期望值\n",
    "$$\\mathop{\\mathbb{E}}_{p(\\mathbf{x}, y)} [l(f(\\mathbf{x}), y)] = \\int\\int l(f(\\mathbf{x}), y) p(\\mathbf{x}, y) \\;d\\mathbf{x}dy$$"
   ]
  },
  {
   "cell_type": "markdown",
   "metadata": {
    "slideshow": {
     "slide_type": "slide"
    }
   },
   "source": [
    "### 协变量偏移纠正\n",
    "\n",
    "* 对于带标签的数据$(\\mathbf{x}_i, y_i)$，要评估$P(y \\mid \\mathbf{x})$\n",
    "* 观测值$\\mathbf{x}_i$是从某些*源分布*$q(\\mathbf{x})$中得出的，而不是从*目标分布*$p(\\mathbf{x})$中得出的\n",
    "* 依赖性假设：$p(y \\mid \\mathbf{x}) = q(y \\mid \\mathbf{x})$保持不变"
   ]
  },
  {
   "cell_type": "markdown",
   "metadata": {
    "slideshow": {
     "slide_type": "slide"
    }
   },
   "source": [
    "### 协变量偏移纠正\n",
    "\n",
    "* \n",
    "$$\n",
    "\\begin{aligned}\n",
    "&\\int\\int l(f(\\mathbf{x}), y) p(y \\mid \\mathbf{x})p(\\mathbf{x}) \\;d\\mathbf{x}dy \\\\\n",
    "=&\\int\\int l(f(\\mathbf{x}), y) q(y \\mid \\mathbf{x})q(\\mathbf{x})\\frac{p(\\mathbf{x})}{q(\\mathbf{x})} \\;d\\mathbf{x}dy\n",
    "\\end{aligned}\n",
    "$$\n",
    "* \n",
    "$$\\beta_i \\stackrel{\\mathrm{def}}{=} \\frac{p(\\mathbf{x}_i)}{q(\\mathbf{x}_i)}$$\n",
    "* 加权经验风险最小化\n",
    "$$\\mathop{\\mathrm{minimize}}_f \\frac{1}{n} \\sum_{i=1}^n \\beta_i l(f(\\mathbf{x}_i), y_i)$$"
   ]
  },
  {
   "cell_type": "markdown",
   "metadata": {
    "slideshow": {
     "slide_type": "slide"
    }
   },
   "source": [
    "### 协变量偏移纠正\n",
    "\n",
    "* *对数几率回归*（logistic regression）\n",
    "* 学习了一个分类器来区分从$p(\\mathbf{x})$抽取的数据和从$q(\\mathbf{x})$抽取的数据\n",
    "* 分别从$p(\\mathbf{x})$和$q(\\mathbf{x})$两个分布中抽取相同数量的样本\n",
    "* $z$标签：从$p$抽取的数据为$1$，从$q$抽取的数据为$-1$\n",
    "* $$P(z=1 \\mid \\mathbf{x}) = \\frac{p(\\mathbf{x})}{p(\\mathbf{x})+q(\\mathbf{x})}$$"
   ]
  },
  {
   "cell_type": "markdown",
   "metadata": {
    "slideshow": {
     "slide_type": "slide"
    }
   },
   "source": [
    "### 协变量偏移纠正\n",
    "\n",
    "* \n",
    "$$\n",
    "\\beta_i = \\frac{1/(1 + \\exp(-h(\\mathbf{x}_i)))}{\\exp(-h(\\mathbf{x}_i))/(1 + \\exp(-h(\\mathbf{x}_i)))} = \\exp(h(\\mathbf{x}_i))\n",
    "$$\n",
    "* 依赖于一个重要的假设：需要目标分布（例如，测试分布）中的每个数据样本在训练时出现的概率非零\n",
    "* 如果找到$p(\\mathbf{x}) > 0$但$q(\\mathbf{x}) = 0$的点，那么相应的重要性权重会是无穷大"
   ]
  },
  {
   "cell_type": "markdown",
   "metadata": {
    "slideshow": {
     "slide_type": "slide"
    }
   },
   "source": [
    "## 机器学习中的公平、责任和透明度\n",
    "\n",
    "* Finally, it is important to remember that when you deploy machine learning systems you are not merely optimizing a predictive model---you are typically providing a tool that will be used to (partially or fully) automate decisions.\n",
    "* These technical systems can impact the lives of individuals subject to the resulting decisions.\n",
    "* Should the news that an individual encounters be determined by the set of Facebook pages they have *Liked*?"
   ]
  }
 ],
 "metadata": {
  "celltoolbar": "Slideshow",
  "kernelspec": {
   "display_name": "Python 3",
   "language": "python",
   "name": "python3"
  },
  "language_info": {
   "codemirror_mode": {
    "name": "ipython",
    "version": 3
   },
   "file_extension": ".py",
   "mimetype": "text/x-python",
   "name": "python",
   "nbconvert_exporter": "python",
   "pygments_lexer": "ipython3",
   "version": "3.8.8"
  }
 },
 "nbformat": 4,
 "nbformat_minor": 4
}
