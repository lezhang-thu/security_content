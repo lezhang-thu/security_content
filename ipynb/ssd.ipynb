{
 "cells": [
  {
   "cell_type": "markdown",
   "metadata": {
    "slideshow": {
     "slide_type": "slide"
    }
   },
   "source": [
    "# 单发多框检测 / SSD / Single Shot Multibox Detection\n",
    "\n",
    "* 基本网络用于从输入图像中提取特征\n",
    "\n",
    "  （在分类层之前截断的VGG）\n",
    "\n",
    "* 每个多尺度特征块将上一层提供的特征图的高和宽缩小\n",
    "* 接近顶部的多尺度特征图较小，但具有较大的感受野，它们适合检测较少但较大的物体\n",
    "\n",
    "阅读：单发多框检测\\_SSD.pdf\n"
   ]
  },
  {
   "cell_type": "markdown",
   "metadata": {
    "slideshow": {
     "slide_type": "slide"
    }
   },
   "source": [
    "<center><img src=\"../img/ssd.svg\" width=\"55%\"></center>"
   ]
  },
  {
   "cell_type": "markdown",
   "metadata": {
    "slideshow": {
     "slide_type": "slide"
    }
   },
   "source": [
    "### 类别预测层\n",
    "\n",
    "* $q$：目标类别的数量\n",
    "* 锚框：$q+1$个类别（0类是背景）\n",
    "* 类别预测层：一个保持输入高和宽的卷积层\n",
    "* 输出通道数：$a(q+1)$\n",
    "\n",
    "```\n",
    "def cls_predictor(num_inputs, num_anchors, num_classes):\n",
    "    return nn.Conv2d(num_inputs, \n",
    "        num_anchors * (num_classes + 1),\n",
    "        kernel_size=3, padding=1)\n",
    "```"
   ]
  },
  {
   "cell_type": "markdown",
   "metadata": {
    "slideshow": {
     "slide_type": "slide"
    }
   },
   "source": [
    "### 边界框预测层\n",
    "\n",
    "为每个锚框预测4个偏移量\n",
    "\n",
    "```\n",
    "def bbox_predictor(num_inputs, num_anchors):\n",
    "    return nn.Conv2d(num_inputs, \n",
    "        num_anchors * 4, \n",
    "        kernel_size=3, padding=1)\n",
    "```"
   ]
  },
  {
   "cell_type": "markdown",
   "metadata": {
    "slideshow": {
     "slide_type": "slide"
    }
   },
   "source": [
    "### 高和宽减半块\n",
    "\n",
    "* 应用VGG模块设计\n",
    "* **两个**填充为$1$的$3\\times3$的卷积层：不改变特征图的形状\n",
    "* 步幅为$2$的$2\\times2$最大池化层：将输入特征图的高度和宽度减少了一半\n",
    "* receptive field：输出中的每个单元在输入上都有一个$6\\times 6$的感受野\n",
    "\n",
    "讨论：$6\\times 6$的感受野"
   ]
  },
  {
   "cell_type": "markdown",
   "metadata": {
    "origin_pos": 20,
    "slideshow": {
     "slide_type": "slide"
    }
   },
   "source": [
    "### 基本网络块\n",
    "\n",
    "* 小的基础网络：串联3个高和宽减半块，并逐步将通道数翻倍\n",
    "* 输入：$256\\times256$，输出：$32 \\times 32$\n",
    "\n",
    "\\begin{equation*}\n",
    "\\frac{256}{2^3}=32\n",
    "\\end{equation*}"
   ]
  },
  {
   "cell_type": "markdown",
   "metadata": {
    "origin_pos": 23,
    "slideshow": {
     "slide_type": "slide"
    }
   },
   "source": [
    "### 完整的模型\n",
    "\n",
    "* 完整的单发多框检测模型由五个模块组成\n",
    "* 第一个是基本网络块\n",
    "* 第二个到第四个是高和宽减半块\n",
    "* 最后一个模块使用全局最大池将高度和宽度都降到1"
   ]
  },
  {
   "cell_type": "markdown",
   "metadata": {
    "slideshow": {
     "slide_type": "slide"
    }
   },
   "source": [
    "* 一个较接近顶部的多尺度特征块是用于检测较大目标的\n",
    "\n",
    "```\n",
    "sizes = [[0.2, 0.272], [0.37, 0.447], \n",
    "         [0.54, 0.619], [0.71, 0.79],\n",
    "         [0.88, 0.961]]\n",
    "ratios = [[1, 2, 0.5]] * 5\n",
    "```\n",
    "\n",
    "* 锚框的个数：4"
   ]
  },
  {
   "cell_type": "markdown",
   "metadata": {
    "origin_pos": 34,
    "slideshow": {
     "slide_type": "slide"
    }
   },
   "source": [
    "* 在所有五个尺度下，锚框总数：\n",
    "\n",
    "\\begin{equation*}\n",
    "(32^2 + 16^2 + 8^2 + 4^2 + 1)\\times 4 = 5444\n",
    "\\end{equation*}\n"
   ]
  },
  {
   "cell_type": "markdown",
   "metadata": {
    "origin_pos": 42,
    "slideshow": {
     "slide_type": "slide"
    }
   },
   "source": [
    "### 定义损失函数和评价函数\n",
    "\n",
    "* 有关锚框类别的损失：交叉熵损失函数\n",
    "* 有关正类锚框偏移量的损失：$L_1$范数损失，即预测值和真实值之差的绝对值\n",
    "\n",
    "观察：教材中的预测目标结果\n",
    "\n",
    "阅读：单发多框检测\\_SSD.pdf\n"
   ]
  }
 ],
 "metadata": {
  "celltoolbar": "Slideshow",
  "kernelspec": {
   "display_name": "Python 3",
   "language": "python",
   "name": "python3"
  },
  "language_info": {
   "codemirror_mode": {
    "name": "ipython",
    "version": 3
   },
   "file_extension": ".py",
   "mimetype": "text/x-python",
   "name": "python",
   "nbconvert_exporter": "python",
   "pygments_lexer": "ipython3",
   "version": "3.8.8"
  }
 },
 "nbformat": 4,
 "nbformat_minor": 4
}
