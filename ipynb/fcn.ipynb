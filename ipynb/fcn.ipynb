{
 "cells": [
  {
   "cell_type": "markdown",
   "metadata": {
    "slideshow": {
     "slide_type": "slide"
    }
   },
   "source": [
    "# 全卷积网络\n",
    "\n",
    "*全卷积网络*（fully convolutional network，FCN）"
   ]
  },
  {
   "cell_type": "markdown",
   "metadata": {
    "slideshow": {
     "slide_type": "slide"
    }
   },
   "source": [
    "<center><img src=\"../img/fcn.svg\" width=\"12%\"></center>\n",
    "\n",
    "1. 先使用卷积神经网络抽取图像特征\n",
    "2. 通过$1\\times 1$卷积层将通道数变换为类别个数\n",
    "3. 通过转置卷积层将特征图的高和宽变换为输入图像的尺寸"
   ]
  },
  {
   "cell_type": "markdown",
   "metadata": {
    "origin_pos": 3,
    "slideshow": {
     "slide_type": "slide"
    }
   },
   "source": [
    "## 构造模型\n",
    "\n",
    "* 预训练的ResNet-18模型来提取图像特征\n",
    "* 不需要：ResNet-18模型的全局平均池化层和全连接层\n",
    "* 输入：$320\\times 480$\n",
    "\n",
    "  输出：$10\\times 15$\n",
    "\n",
    "  $1/32$"
   ]
  },
  {
   "cell_type": "markdown",
   "metadata": {
    "origin_pos": 12,
    "slideshow": {
     "slide_type": "slide"
    }
   },
   "source": [
    "* $1\\times1$卷积层：将输出通道数转换为21类\n",
    "* 将特征图的高度和宽度增加32倍\n",
    "\n",
    "  \\begin{equation*}\n",
    "  \\frac{320-64+16\\times2+32}{32}=10\n",
    "  \\end{equation*}\n",
    "  \n",
    "  \\begin{equation*}\n",
    "  \\frac{480-64+16\\times2+32}{32}=15\n",
    "  \\end{equation*} \n",
    "  \n",
    "* 转置卷积层：步幅为$32$，卷积核为$64\\times 64$，填充为$16$\n"
   ]
  },
  {
   "cell_type": "markdown",
   "metadata": {
    "origin_pos": 14,
    "slideshow": {
     "slide_type": "slide"
    },
    "tab": [
     "pytorch"
    ]
   },
   "source": [
    "```\n",
    "num_classes = 21\n",
    "net.add_module('final_conv', nn.Conv2d(512, \n",
    "                                       num_classes, \n",
    "                                       kernel_size=1))\n",
    "net.add_module('transpose_conv', \n",
    "               nn.ConvTranspose2d(num_classes, \n",
    "                                  num_classes,\n",
    "                                  kernel_size=64, \n",
    "                                  padding=16, stride=32))\n",
    "```                                 "
   ]
  },
  {
   "cell_type": "markdown",
   "metadata": {
    "origin_pos": 32,
    "slideshow": {
     "slide_type": "slide"
    }
   },
   "source": [
    "## 训练\n",
    "\n",
    "* 与图像分类中的并没有本质上的不同\n",
    "* 使用转置卷积层的通道来预测像素的类别"
   ]
  },
  {
   "cell_type": "markdown",
   "metadata": {
    "origin_pos": 35,
    "slideshow": {
     "slide_type": "slide"
    }
   },
   "source": [
    "## 预测\n",
    "\n",
    "当输入图像的高或宽无法被32整除时\n",
    "\n",
    "* 在图像中截取多块高和宽为32的整数倍的矩形区域\n",
    "* 这些区域的并集需要完整覆盖输入图像\n",
    "* 当一个像素被多个区域所覆盖时，它在不同区域前向传播中转置卷积层输出的平均值可以作为`softmax`运算的输入，从而预测类别"
   ]
  }
 ],
 "metadata": {
  "celltoolbar": "Slideshow",
  "kernelspec": {
   "display_name": "Python 3",
   "language": "python",
   "name": "python3"
  },
  "language_info": {
   "codemirror_mode": {
    "name": "ipython",
    "version": 3
   },
   "file_extension": ".py",
   "mimetype": "text/x-python",
   "name": "python",
   "nbconvert_exporter": "python",
   "pygments_lexer": "ipython3",
   "version": "3.8.8"
  }
 },
 "nbformat": 4,
 "nbformat_minor": 4
}
