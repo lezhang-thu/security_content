{
 "cells": [
  {
   "cell_type": "markdown",
   "metadata": {
    "origin_pos": 0
   },
   "source": [
    "# 卷积神经网络（LeNet）\n",
    "\n",
    "* 它是最早发布的卷积神经网络之一\n",
    "* 这个模型是由AT&T贝尔实验室的研究员Yann LeCun在1989年提出的（并以其命名）\n",
    "* 当时，Yann LeCun发表了第一篇通过反向传播成功训练卷积神经网络的研究"
   ]
  },
  {
   "cell_type": "markdown",
   "metadata": {
    "slideshow": {
     "slide_type": "slide"
    }
   },
   "source": [
    "# 卷积神经网络（LeNet）\n",
    "\n",
    "* 当时，LeNet取得了与支持向量机性能相媲美的成果\n",
    "* LeNet被广泛用于自动取款机（ATM）机中，帮助识别处理支票的数字\n",
    "* 时至今日，一些自动取款机仍在运行Yann LeCun和他的同事Leon Bottou在上世纪90年代写的代码呢"
   ]
  },
  {
   "cell_type": "markdown",
   "metadata": {
    "slideshow": {
     "slide_type": "slide"
    }
   },
   "source": [
    "## LeNet\n",
    "\n",
    "LeNet（LeNet-5）由两个部分组成：\n",
    "\n",
    "* 卷积编码器：由两个卷积层组成\n",
    "* 全连接层密集块：由三个全连接层组成\n",
    "\n",
    "<center><img src=\"../img/lenet.svg\" width=\"70%\"></center>\n",
    "<center>LeNet中的数据流</center>\n"
   ]
  },
  {
   "cell_type": "markdown",
   "metadata": {
    "slideshow": {
     "slide_type": "slide"
    }
   },
   "source": [
    "## LeNet\n",
    "\n",
    "* 每个卷积块中的基本单元是一个卷积层、一个sigmoid激活函数和平均池化层\n",
    "* 虽然ReLU和最大池化层更有效，但它们在20世纪90年代还没有出现\n",
    "* [卷积神经网络（LeNet）](https://www.bilibili.com/video/BV1t44y1r7ct/)\n",
    "\n",
    "  视频从MNIST开始"
   ]
  },
  {
   "cell_type": "code",
   "execution_count": 1,
   "metadata": {
    "origin_pos": 2,
    "slideshow": {
     "slide_type": "slide"
    },
    "tab": [
     "pytorch"
    ]
   },
   "outputs": [],
   "source": [
    "import torch\n",
    "from d2l import torch as d2l\n",
    "from torch import nn\n",
    "\n",
    "net = nn.Sequential(\n",
    "    nn.Conv2d(1, 6, kernel_size=5, padding=2),\n",
    "    nn.Sigmoid(),\n",
    "    nn.AvgPool2d(kernel_size=2, stride=2),\n",
    "    nn.Conv2d(6, 16, kernel_size=5),\n",
    "    nn.Sigmoid(),\n",
    "    nn.AvgPool2d(kernel_size=2, stride=2),\n",
    "    nn.Flatten(),\n",
    "    nn.Linear(16 * 5 * 5, 120),\n",
    "    nn.Sigmoid(),\n",
    "    nn.Linear(120, 84),\n",
    "    nn.Sigmoid(),\n",
    "    nn.Linear(84, 10),\n",
    ")"
   ]
  }
 ],
 "metadata": {
  "celltoolbar": "Slideshow",
  "kernelspec": {
   "display_name": "Python 3",
   "language": "python",
   "name": "python3"
  },
  "language_info": {
   "codemirror_mode": {
    "name": "ipython",
    "version": 3
   },
   "file_extension": ".py",
   "mimetype": "text/x-python",
   "name": "python",
   "nbconvert_exporter": "python",
   "pygments_lexer": "ipython3",
   "version": "3.8.8"
  }
 },
 "nbformat": 4,
 "nbformat_minor": 4
}
