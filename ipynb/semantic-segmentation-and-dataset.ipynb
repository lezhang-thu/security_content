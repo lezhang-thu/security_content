{
 "cells": [
  {
   "cell_type": "markdown",
   "metadata": {
    "slideshow": {
     "slide_type": "slide"
    }
   },
   "source": [
    "# 语义分割和数据集\n",
    "\n",
    "*语义分割*（semantic segmentation）\n",
    "\n",
    "* 如何将图像分割成属于不同语义类别的区域\n",
    "* 其语义区域的标注和预测是像素级的\n",
    "\n",
    "阅读：语义分割.pdf"
   ]
  },
  {
   "cell_type": "markdown",
   "metadata": {
    "origin_pos": 0,
    "slideshow": {
     "slide_type": "slide"
    }
   },
   "source": [
    "\n",
    "\n",
    "## Pascal VOC2012 语义分割数据集\n",
    "\n",
    "* 标签也采用图像格式，其尺寸和它所标注的输入图像的尺寸相同\n",
    "* 标签中颜色相同的像素属于同一个语义类别"
   ]
  },
  {
   "cell_type": "markdown",
   "metadata": {
    "slideshow": {
     "slide_type": "slide"
    }
   },
   "source": [
    "### RGB颜色值和类名\n",
    "\n",
    "```\n",
    "assert VOC_COLORMAP[0] = [0, 0, 0]\n",
    "assert VOC_COLORMAP[1] = [128, 0, 0]\n",
    "assert VOC_COLORMAP[-1] = [0, 64, 128]\n",
    "```\n",
    "\n",
    "```\n",
    "assert VOC_CLASSES[0] = 'background'\n",
    "assert VOC_CLASSES[1] = 'aeroplane'\n",
    "assert VOC_CLASSES[-1] = 'tv/monitor'\n",
    "```"
   ]
  },
  {
   "cell_type": "markdown",
   "metadata": {
    "origin_pos": 13,
    "slideshow": {
     "slide_type": "slide"
    }
   },
   "source": [
    "### 查找标签中每个像素的类索引\n",
    "\n",
    "* `voc_colormap2label`函数：RGB颜色值到类别索引的映射\n",
    "\n",
    "```\n",
    "colormap2label = torch.zeros(256 ** 3, dtype=torch.long)\n",
    "for i, colormap in enumerate(VOC_COLORMAP):\n",
    "    colormap2label[\n",
    "        (colormap[0] * 256 + colormap[1]) * 256 \n",
    "        + colormap[2]] = i\n",
    "```\n"
   ]
  },
  {
   "cell_type": "markdown",
   "metadata": {
    "slideshow": {
     "slide_type": "slide"
    }
   },
   "source": [
    "\n",
    "* `voc_label_indices`函数：将RGB值映射到在Pascal VOC2012数据集中的类别索引\n",
    "\n",
    "```\n",
    "idx = ((colormap[:, :, 0] * 256 \n",
    "       + colormap[:, :, 1]) * 256 + colormap[:, :, 2])\n",
    "```"
   ]
  },
  {
   "cell_type": "markdown",
   "metadata": {
    "origin_pos": 18,
    "slideshow": {
     "slide_type": "slide"
    }
   },
   "source": [
    "### 预处理数据\n",
    "\n",
    "* 通过再缩放图像使其符合模型的输入形状？\n",
    "    * 在语义分割中，这样做需要将预测的像素类别重新映射回原始尺寸的输入图像\n",
    "    * Such rescaling may be inaccurate, especially for segmented regions with different classes"
   ]
  },
  {
   "cell_type": "markdown",
   "metadata": {
    "slideshow": {
     "slide_type": "slide"
    }
   },
   "source": [
    "### 随机裁剪\n",
    "\n",
    "* 将图像裁剪为固定尺寸，而不是再缩放\n",
    "* 使用图像增广中的随机裁剪，裁剪输入图像和标签的相同区域\n",
    "\n",
    "观察：教材中的随机裁剪的示例"
   ]
  }
 ],
 "metadata": {
  "celltoolbar": "Slideshow",
  "kernelspec": {
   "display_name": "Python 3",
   "language": "python",
   "name": "python3"
  },
  "language_info": {
   "codemirror_mode": {
    "name": "ipython",
    "version": 3
   },
   "file_extension": ".py",
   "mimetype": "text/x-python",
   "name": "python",
   "nbconvert_exporter": "python",
   "pygments_lexer": "ipython3",
   "version": "3.8.8"
  }
 },
 "nbformat": 4,
 "nbformat_minor": 4
}
