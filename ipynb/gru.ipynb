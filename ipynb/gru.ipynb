{
 "cells": [
  {
   "cell_type": "markdown",
   "metadata": {
    "slideshow": {
     "slide_type": "slide"
    }
   },
   "source": [
    "# 门控循环单元（GRU）\n",
    "\n",
    "* 在对网页内容进行情感分析时，可能有一些辅助HTML代码与网页传达的情绪无关\n",
    "\n",
    "  （*skipping* such tokens in the latent state representation）\n",
    "* 序列的各个部分之间存在逻辑中断（logical break）\n",
    "\n",
    "  （*resetting* our internal state representation）\n",
    "* 极端情况：第一个观测值包含一个校验和，目标是在序列的末尾辨别校验和是否正确\n"
   ]
  },
  {
   "cell_type": "markdown",
   "metadata": {
    "slideshow": {
     "slide_type": "slide"
    }
   },
   "source": [
    "\n",
    "\n",
    "## 门控隐状态\n",
    "\n",
    "* 应该何时更新隐状态\n",
    "* 应该何时重置隐状态"
   ]
  },
  {
   "cell_type": "markdown",
   "metadata": {
    "slideshow": {
     "slide_type": "slide"
    }
   },
   "source": [
    "### 重置门和更新门\n",
    "\n",
    "* a **reset gate** would allow us to control how much of the previous state we might still want to remember\n",
    "* an **update gate** would allow us to control how much of the new state is just a copy of the old state\n",
    "* vectors with entries in $(0,1)$"
   ]
  },
  {
   "cell_type": "markdown",
   "metadata": {
    "slideshow": {
     "slide_type": "slide"
    }
   },
   "source": [
    "\\begin{aligned}\n",
    "\\mathbf{R}_t = \\sigma(\\mathbf{X}_t \\mathbf{W}_{xr} + \\mathbf{H}_{t-1} \\mathbf{W}_{hr} + \\mathbf{b}_r),\\\\\n",
    "\\mathbf{Z}_t = \\sigma(\\mathbf{X}_t \\mathbf{W}_{xz} + \\mathbf{H}_{t-1} \\mathbf{W}_{hz} + \\mathbf{b}_z),\n",
    "\\end{aligned}\n",
    "\n",
    "<center><img src=\"../img/gru-1.svg\" width=\"50%\"></center>\n",
    "\n",
    "使用sigmoid函数：区间$(0, 1)$"
   ]
  },
  {
   "cell_type": "markdown",
   "metadata": {
    "slideshow": {
     "slide_type": "slide"
    }
   },
   "source": [
    "### 候选隐状态\n",
    "\n",
    "<center><img src=\"../img/gru-2.svg\" width=\"50%\"></center>\n",
    "\n",
    "$$\\tilde{\\mathbf{H}}_t = \\tanh(\\mathbf{X}_t \\mathbf{W}_{xh} + \\left(\\mathbf{R}_t \\odot \\mathbf{H}_{t-1}\\right) \\mathbf{W}_{hh} + \\mathbf{b}_h)$$\n",
    "\n",
    "* $\\mathbf{R}_t$和$\\mathbf{H}_{t-1}$的元素相乘可以减少以往状态的影响\n",
    "    * 接近$1$：普通的循环神经网络\n",
    "    * 接近$0$：多层感知机\n"
   ]
  },
  {
   "cell_type": "markdown",
   "metadata": {
    "slideshow": {
     "slide_type": "slide"
    }
   },
   "source": [
    "### 隐状态\n",
    "\n",
    "$$\\mathbf{H}_t = \\mathbf{Z}_t \\odot \\mathbf{H}_{t-1}  + (1 - \\mathbf{Z}_t) \\odot \\tilde{\\mathbf{H}}_t$$\n",
    "\n",
    "确定新的隐状态$\\mathbf{H}_t$在多大程度上来自旧的状态$\\mathbf{H}_{t-1}$和新的候选状态$\\tilde{\\mathbf{H}}_t$\n",
    "\n",
    "\n",
    "<center><img src=\"../img/gru-3.svg\" width=\"50%\"></center>"
   ]
  },
  {
   "cell_type": "markdown",
   "metadata": {
    "slideshow": {
     "slide_type": "slide"
    }
   },
   "source": [
    "$$\\mathbf{H}_t = \\mathbf{Z}_t \\odot \\mathbf{H}_{t-1}  + (1 - \\mathbf{Z}_t) \\odot \\tilde{\\mathbf{H}}_t$$\n",
    "\n",
    "接近$1$：倾向只保留旧状态\n",
    "\n",
    "* 来自$\\mathbf{X}_t$的信息基本上被忽略，从而有效地跳过了依赖链条中的时间步$t$\n",
    "* 可以帮助处理循环神经网络中的梯度消失问题"
   ]
  },
  {
   "cell_type": "markdown",
   "metadata": {
    "origin_pos": 23,
    "slideshow": {
     "slide_type": "slide"
    }
   },
   "source": [
    "## 小结\n",
    "\n",
    "* 门控循环神经网络可以更好地捕获时间步距离很长的序列上的依赖关系\n",
    "* 重置门有助于捕获序列中的短期依赖关系\n",
    "* 更新门有助于捕获序列中的长期依赖关系"
   ]
  }
 ],
 "metadata": {
  "celltoolbar": "Slideshow",
  "kernelspec": {
   "display_name": "Python 3",
   "language": "python",
   "name": "python3"
  },
  "language_info": {
   "codemirror_mode": {
    "name": "ipython",
    "version": 3
   },
   "file_extension": ".py",
   "mimetype": "text/x-python",
   "name": "python",
   "nbconvert_exporter": "python",
   "pygments_lexer": "ipython3",
   "version": "3.8.8"
  }
 },
 "nbformat": 4,
 "nbformat_minor": 4
}
