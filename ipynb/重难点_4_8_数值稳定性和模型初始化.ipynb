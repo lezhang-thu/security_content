{
 "cells": [
  {
   "cell_type": "markdown",
   "metadata": {
    "slideshow": {
     "slide_type": "slide"
    }
   },
   "source": [
    "## 梯度消失和梯度爆炸\n",
    "\n",
    "* *梯度消失*（gradient vanishing）：参数更新过小，在每次更新时几乎不会移动，导致模型无法学习\n",
    "* *梯度爆炸*（gradient exploding）：参数更新过大，破坏了模型的稳定收敛\n",
    "* 见：重难点\\_数值稳定性.pdf"
   ]
  },
  {
   "cell_type": "markdown",
   "metadata": {
    "slideshow": {
     "slide_type": "slide"
    }
   },
   "source": [
    "### 梯度爆炸\n",
    "\n",
    "* 方差$\\sigma^2=1$\n",
    "* 矩阵乘积发生爆炸"
   ]
  },
  {
   "cell_type": "code",
   "execution_count": 3,
   "metadata": {
    "origin_pos": 2,
    "slideshow": {
     "slide_type": "subslide"
    },
    "tab": [
     "pytorch"
    ]
   },
   "outputs": [
    {
     "name": "stdout",
     "output_type": "stream",
     "text": [
      "一个矩阵 \n",
      " tensor([[-1.0196,  0.9881,  0.3915, -0.6598],\n",
      "        [ 0.2201,  0.2316, -0.9263, -0.6936],\n",
      "        [-0.4279,  1.5499, -0.8536, -0.7153],\n",
      "        [-0.5725,  0.4476,  0.4789,  0.5133]])\n",
      "乘以100个矩阵后\n",
      " tensor([[-6.8055e+21,  2.7960e+21,  1.3135e+22, -2.0653e+22],\n",
      "        [-8.0737e+21,  3.3171e+21,  1.5583e+22, -2.4502e+22],\n",
      "        [-9.9035e+21,  4.0688e+21,  1.9115e+22, -3.0055e+22],\n",
      "        [ 3.0503e+21, -1.2532e+21, -5.8876e+21,  9.2570e+21]])\n"
     ]
    }
   ],
   "source": [
    "import torch\n",
    "\n",
    "M = torch.normal(0, 1, size=(4, 4))\n",
    "print(\"一个矩阵 \\n\", M)\n",
    "for i in range(100):\n",
    "    M = torch.mm(M, torch.normal(0, 1, size=(4, 4)))\n",
    "\n",
    "print(\"乘以100个矩阵后\\n\", M)"
   ]
  },
  {
   "cell_type": "markdown",
   "metadata": {
    "slideshow": {
     "slide_type": "slide"
    }
   },
   "source": [
    "### 打破对称性\n",
    "\n",
    "* 一个简单的MLP，有一个隐藏层和两个隐藏单元\n",
    "* 在每一层的隐藏单元之间具有排列对称性\n"
   ]
  },
  {
   "cell_type": "markdown",
   "metadata": {
    "slideshow": {
     "slide_type": "slide"
    }
   },
   "source": [
    "### 打破对称性\n",
    "\n",
    "* 转换为仅一个输出单元，如果将隐藏层的所有参数初始化为$\\mathbf{W}^{(1)} = c$\n",
    "* 两个隐藏单元采用相同的输入和参数，产生相同的激活\n",
    "* 在基于梯度的迭代之后，$\\mathbf{W}^{(1)}$的所有元素仍然采用相同的值，隐藏层的行为就好像只有一个单元"
   ]
  },
  {
   "cell_type": "markdown",
   "metadata": {
    "slideshow": {
     "slide_type": "slide"
    }
   },
   "source": [
    "### Xavier初始化\n",
    "\n",
    "见：重难点\\_模型初始化和激活函数.pdf"
   ]
  }
 ],
 "metadata": {
  "celltoolbar": "Slideshow",
  "kernelspec": {
   "display_name": "Python 3",
   "language": "python",
   "name": "python3"
  },
  "language_info": {
   "codemirror_mode": {
    "name": "ipython",
    "version": 3
   },
   "file_extension": ".py",
   "mimetype": "text/x-python",
   "name": "python",
   "nbconvert_exporter": "python",
   "pygments_lexer": "ipython3",
   "version": "3.8.8"
  }
 },
 "nbformat": 4,
 "nbformat_minor": 4
}
