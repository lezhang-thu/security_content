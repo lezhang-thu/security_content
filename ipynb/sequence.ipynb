{
 "cells": [
  {
   "cell_type": "markdown",
   "metadata": {
    "slideshow": {
     "slide_type": "slide"
    }
   },
   "source": [
    "# 序列模型\n",
    "\n",
    "视频：[序列模型](https://www.bilibili.com/video/BV1L44y1m768?p=1)\n",
    "\n",
    "$$x_t \\sim P(x_t \\mid x_{t-1}, \\ldots, x_1)$$"
   ]
  },
  {
   "cell_type": "markdown",
   "metadata": {
    "origin_pos": 0,
    "slideshow": {
     "slide_type": "slide"
    }
   },
   "source": [
    "### 自回归模型\n",
    "\n",
    "* 输入$x_{t-1}, \\ldots, x_1$本身因$t$而异\n",
    "* 两种策略：\n",
    "    * *自回归模型*（autoregressive models）：使用观测序列$x_{t-1}, \\ldots, x_{t-\\tau}$\n",
    "    * *隐变量自回归模型*（latent autoregressive models）：\n",
    "        * 保留一些对过去观测的总结$h_t$\n",
    "        * $\\hat{x}_t = P(x_t \\mid h_{t})$\n",
    "        * $h_t = g(h_{t-1}, x_{t-1})$\n",
    "        * $h_t$从未被观测到"
   ]
  },
  {
   "cell_type": "markdown",
   "metadata": {
    "slideshow": {
     "slide_type": "slide"
    }
   },
   "source": [
    "### 马尔可夫模型\n",
    "\n",
    "*一阶马尔可夫模型*（first-order Markov model）\n",
    "\n",
    "$$P(x_1, \\ldots, x_T) = \\prod_{t=1}^T P(x_t \\mid x_{t-1}) \\text{ where } P(x_1 \\mid x_0) = P(x_1).$$\n",
    "\n",
    "视频：[序列模型](https://www.bilibili.com/video/BV1L44y1m768?p=1)"
   ]
  },
  {
   "cell_type": "markdown",
   "metadata": {
    "slideshow": {
     "slide_type": "slide"
    }
   },
   "source": [
    "\n",
    "## 训练\n",
    "\n",
    "生成序列数据：a sine function with some additive noise\n",
    "\n",
    "```\n",
    "time = torch.arange(1, T + 1, dtype=torch.float32)\n",
    "x = torch.sin(0.01 * time) + torch.normal(0, 0.2, (T,))\n",
    "```\n",
    "\n",
    "课堂：观察教材中的图"
   ]
  },
  {
   "cell_type": "markdown",
   "metadata": {
    "slideshow": {
     "slide_type": "slide"
    }
   },
   "source": [
    "* “特征－标签”（feature-label）对\n",
    "    * 特征：$\\mathbf{x}_t = [x_{t-\\tau}, \\ldots, x_{t-1}]$\n",
    "    * 标签：$y_t = x_t$\n",
    "* $\\mathbf{x}_t$（features）的形状$(T-\\tau,\\tau)$\n",
    "\n",
    "```\n",
    "features[:, i] = x[i: T - tau + i]\n",
    "```\n",
    "\n",
    "（考虑`i = 0`，$x_0,x_1,\\dotsc,x_{T-1-\\tau}$）\n",
    "\n",
    "```\n",
    "labels = x[tau:].reshape((-1, 1))\n",
    "```"
   ]
  },
  {
   "cell_type": "markdown",
   "metadata": {
    "origin_pos": 10,
    "slideshow": {
     "slide_type": "slide"
    }
   },
   "source": [
    "### 模型\n",
    "\n",
    "```\n",
    "net = nn.Sequential(nn.Linear(4, 10),\n",
    "                    nn.ReLU(),\n",
    "                    nn.Linear(10, 1))\n",
    "```\n"
   ]
  },
  {
   "cell_type": "markdown",
   "metadata": {
    "origin_pos": 18,
    "slideshow": {
     "slide_type": "slide"
    }
   },
   "source": [
    "## 预测\n",
    "\n",
    "* *单步预测*（one-step-ahead prediction）\n",
    "* $k$*步预测*（$k$-step-ahead prediction）\n",
    "\n",
    "\\begin{align*}\n",
    "&P(x_t \\mid x_{t-1}, \\ldots, x_{t-\\tau})\\quad\\text{one-step}\\\\\n",
    "&P(x_{t+1} \\mid \\hat{x}_t, \\ldots, x_{t+1-\\tau})\\quad\\text{2-step}\\\\\n",
    "&P(x_{t+2} \\mid \\hat{x}_{t+1},\\hat{x}_t, \\ldots, x_{t+2-\\tau})\\quad\\text{3-step}\n",
    "\\end{align*}\n",
    "\n",
    "课堂：观察教材中的图（$k>1$只观察最后一张图）"
   ]
  },
  {
   "cell_type": "markdown",
   "metadata": {
    "slideshow": {
     "slide_type": "slide"
    }
   },
   "source": [
    "### 为什么效果这么差\n",
    "\n",
    "* the errors build up\n",
    "* The error can diverge rather rapidly from the true observations"
   ]
  },
  {
   "cell_type": "markdown",
   "metadata": {
    "origin_pos": 29,
    "slideshow": {
     "slide_type": "slide"
    }
   },
   "source": [
    "\n",
    "\n",
    "## 小结\n",
    "\n",
    "* 内插法（在现有观测值之间进行估计）和外推法（对超出已知观测范围进行预测）\n",
    "\n",
    "\n",
    "\n"
   ]
  }
 ],
 "metadata": {
  "celltoolbar": "Slideshow",
  "kernelspec": {
   "display_name": "Python 3",
   "language": "python",
   "name": "python3"
  },
  "language_info": {
   "codemirror_mode": {
    "name": "ipython",
    "version": 3
   },
   "file_extension": ".py",
   "mimetype": "text/x-python",
   "name": "python",
   "nbconvert_exporter": "python",
   "pygments_lexer": "ipython3",
   "version": "3.8.8"
  }
 },
 "nbformat": 4,
 "nbformat_minor": 4
}
