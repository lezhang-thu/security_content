{
 "cells": [
  {
   "cell_type": "markdown",
   "metadata": {
    "slideshow": {
     "slide_type": "slide"
    }
   },
   "source": [
    "# 锚框\n",
    "\n",
    "* 目标检测算法通常会在输入图像中采样大量的区域，然后判断这些区域中是否包含我们感兴趣的目标，并调整区域边界从而更准确地预测目标的*真实边界框*（ground-truth bounding box）\n",
    "* 阅读：锚框.pdf"
   ]
  },
  {
   "cell_type": "markdown",
   "metadata": {
    "slideshow": {
     "slide_type": "slide"
    }
   },
   "source": [
    "# 锚框\n",
    "\n",
    "*锚框*（anchor box）\n",
    "\n",
    "以每个像素为中心，生成多个缩放比和宽高比（aspect ratio）不同的边界框"
   ]
  },
  {
   "cell_type": "markdown",
   "metadata": {
    "slideshow": {
     "slide_type": "slide"
    }
   },
   "source": [
    "## 生成多个锚框\n",
    "\n",
    "* Let the *scale* be $s\\in (0, 1]$ and the *aspect ratio* (ratio of width to height) is $r > 0$\n",
    "* 锚框的宽度和高度分别是$ws\\sqrt{r}$和$hs/\\sqrt{r}$"
   ]
  },
  {
   "cell_type": "markdown",
   "metadata": {
    "slideshow": {
     "slide_type": "slide"
    }
   },
   "source": [
    "## 生成多个锚框\n",
    "\n",
    "* $s_1,\\ldots, s_n$和$r_1,\\ldots, r_m$\n",
    "* 总共有$whnm$个锚框\n",
    "* 尽管这些锚框可能会覆盖所有真实边界框，但计算复杂性很容易过高"
   ]
  },
  {
   "cell_type": "markdown",
   "metadata": {
    "slideshow": {
     "slide_type": "slide"
    }
   },
   "source": [
    "## 生成多个锚框\n",
    "\n",
    "* 在实践中，只考虑包含$s_1$或$r_1$的组合\n",
    "\n",
    "  \\begin{equation*}\n",
    "  (s_1, r_1), (s_1, r_2), \\ldots, (s_1, r_m), (s_2, r_1), (s_3, r_1), \\ldots, (s_n, r_1)\n",
    "  \\end{equation*}\n",
    "  \n",
    "* 共生成$wh(n+m-1)$个锚框"
   ]
  },
  {
   "cell_type": "markdown",
   "metadata": {
    "slideshow": {
     "slide_type": "slide"
    }
   },
   "source": [
    "## `multibox_prior`关键代码分析\n",
    "\n",
    "1. \n",
    "    ```\n",
    "    offset_h, offset_w = 0.5, 0.5\n",
    "    steps_h = 1.0 / in_height  # 在y轴上缩放步长\n",
    "    ```\n",
    "1. \n",
    "    ```\n",
    "    center_h = (torch.arange(in_height, \n",
    "        device=device) + offset_h) * steps_h\n",
    "    ```\n",
    "\n",
    "分析：细胞的高度$\\tfrac{1}{h}$、第0个中心$y$坐标：$0.5\\times \\tfrac{1}{h}$、第$h-1$个中心$y$坐标：$0.5\\times \\tfrac{1}{h}+(h-1)\\tfrac{1}{h}$"
   ]
  },
  {
   "cell_type": "markdown",
   "metadata": {
    "slideshow": {
     "slide_type": "slide"
    }
   },
   "source": [
    "## `multibox_prior`关键代码分析\n",
    "\n",
    "```\n",
    "w = torch.cat((size_tensor * torch.sqrt(ratio_tensor[0]),\n",
    "               sizes[0] * torch.sqrt(ratio_tensor[1:])))\\\n",
    "               * in_height / in_width  # 处理矩形输入\n",
    "```\n",
    "\n",
    "`in_height / in_width` is there to handle rectangular inputs since ssd was originally developed for square images"
   ]
  },
  {
   "cell_type": "markdown",
   "metadata": {
    "slideshow": {
     "slide_type": "slide"
    }
   },
   "source": [
    "## 交并比（IoU）\n",
    "\n",
    "* 衡量锚框和真实边界框之间的相似性\n",
    "* In fact, we can consider the pixel area of any bounding box as a set of pixels\n",
    "* 阅读：锚框.pdf"
   ]
  },
  {
   "cell_type": "markdown",
   "metadata": {
    "slideshow": {
     "slide_type": "slide"
    }
   },
   "source": [
    "## `box_iou`关键代码分析\n",
    "\n",
    "```\n",
    "inter_upperlefts = torch.max(boxes1[:, None, :2], \n",
    "                        boxes2[:, :2])\n",
    "inter_lowerrights = torch.min(boxes1[:, None, 2:], \n",
    "                        boxes2[:, 2:])\n",
    "    \n",
    "inters = (inter_lowerrights - inter_upperlefts).clamp(min=0)\n",
    "``` \n",
    "\n",
    "要点：广播、`.clamp(min=0)`"
   ]
  },
  {
   "cell_type": "markdown",
   "metadata": {
    "slideshow": {
     "slide_type": "slide"
    }
   },
   "source": [
    "## `box_iou`关键代码分析\n",
    "\n",
    "```\n",
    "inter_areas = inters[:, :, 0] * inters[:, :, 1]\n",
    "```"
   ]
  },
  {
   "cell_type": "markdown",
   "metadata": {
    "slideshow": {
     "slide_type": "slide"
    }
   },
   "source": [
    "## 在训练数据中标注锚框\n",
    "\n",
    "* 将每个锚框视为一个训练样本\n",
    "* 需要每个锚框的*类别*（class）和*偏移量*（offset）标签\n",
    "* *偏移量*（offset）：真实边界框相对于锚框的偏移量"
   ]
  },
  {
   "cell_type": "markdown",
   "metadata": {
    "slideshow": {
     "slide_type": "slide"
    }
   },
   "source": [
    "## 将真实边界框分配给锚框\n",
    "\n",
    "* 锚框是$A_1, A_2, \\ldots, A_{n_a}$，真实边界框是$B_1, B_2, \\ldots, B_{n_b}$，其中$n_a \\geq n_b$\n",
    "* $\\mathbf{X} \\in \\mathbb{R}^{n_a \\times n_b}$，$x_{ij}$是锚框$A_i$和真实边界框$B_j$的IoU"
   ]
  },
  {
   "cell_type": "markdown",
   "metadata": {
    "slideshow": {
     "slide_type": "slide"
    }
   },
   "source": [
    "### 算法\n",
    "\n",
    "1. 在矩阵$\\mathbf{X}$中找到最大的元素，丢弃矩阵中${i_1}^\\mathrm{th}$行和${j_1}^\\mathrm{th}$列中的所有元素\n",
    "1. 依次进行，直到为$n_b$个锚框各自分配了一个真实边界框\n",
    "1. 遍历剩下的$n_a - n_b$个锚框，找到与其的IoU最大的真实边界框（大于预定义的阈值）\n",
    "\n",
    "阅读：锚框.pdf"
   ]
  },
  {
   "cell_type": "markdown",
   "metadata": {
    "slideshow": {
     "slide_type": "slide"
    }
   },
   "source": [
    "### `assign_anchor_to_bbox`关键代码分析\n",
    "\n",
    "```\n",
    "max_ious, indices = torch.max(jaccard, dim=1)\n",
    "anc_i = torch.nonzero(max_ious >= 0.5).reshape(-1)\n",
    "box_j = indices[max_ious >= 0.5]\n",
    "anchors_bbox_map[anc_i] = box_j\n",
    "```\n",
    "\n",
    "`anchors_bbox_map`中默认为-1\n",
    "\n",
    "-1：“背景”（background）"
   ]
  },
  {
   "cell_type": "markdown",
   "metadata": {
    "slideshow": {
     "slide_type": "slide"
    }
   },
   "source": [
    "### `assign_anchor_to_bbox`关键代码分析\n",
    "\n",
    "```\n",
    "max_idx = torch.argmax(jaccard)\n",
    "box_idx = (max_idx % num_gt_boxes).long()\n",
    "anc_idx = (max_idx / num_gt_boxes).long()\n",
    "anchors_bbox_map[anc_idx] = box_idx\n",
    "```\n",
    "\n",
    "要点：`torch.argmax`针对the *flattened* input"
   ]
  },
  {
   "cell_type": "markdown",
   "metadata": {
    "slideshow": {
     "slide_type": "slide"
    }
   },
   "source": [
    "## 标记类别和偏移量\n",
    "\n",
    "* 锚框$A$的偏移量将根据$B$和$A$中心坐标的相对位置以及这两个框的相对大小进行标记\n",
    "\n",
    "\\begin{equation*}\n",
    "\\biggl( \\frac{ \\frac{x_b - x_a}{w_a} - \\mu_x }{\\sigma_x},\n",
    "\\frac{ \\frac{y_b - y_a}{h_a} - \\mu_y }{\\sigma_y},\n",
    "\\frac{ \\log \\frac{w_b}{w_a} - \\mu_w }{\\sigma_w},\n",
    "\\frac{ \\log \\frac{h_b}{h_a} - \\mu_h }{\\sigma_h}\\biggr)\n",
    "\\end{equation*}\n",
    "\n",
    "$\\mu_x = \\mu_y = \\mu_w = \\mu_h = 0, \\sigma_x=\\sigma_y=0.1$ ， $\\sigma_w=\\sigma_h=0.2$"
   ]
  },
  {
   "cell_type": "markdown",
   "metadata": {
    "slideshow": {
     "slide_type": "slide"
    }
   },
   "source": [
    "### `offset_boxes`关键代码分析\n",
    "\n",
    "```\n",
    "offset_xy = 10 * (c_assigned_bb[:, :2] \n",
    "                    - c_anc[:, :2]) / c_anc[:, 2:]\n",
    "offset_wh = 5 * torch.log(eps \n",
    "                    + c_assigned_bb[:, 2:] / c_anc[:, 2:])\n",
    "```"
   ]
  },
  {
   "cell_type": "markdown",
   "metadata": {
    "slideshow": {
     "slide_type": "slide"
    }
   },
   "source": [
    "### 标记类别\n",
    "\n",
    "* “背景”（background）：一个锚框没有被分配真实边界框\n",
    "* “负类”锚框"
   ]
  },
  {
   "cell_type": "markdown",
   "metadata": {
    "slideshow": {
     "slide_type": "slide"
    }
   },
   "source": [
    "## 使用非极大值抑制预测边界框\n",
    "\n",
    "* 预测边界框$B$的*置信度*（confidence）：$p$\n",
    "* 排序列表$L$：所有预测的*非背景*边界框按置信度降序排序\n",
    "* 阅读：锚框.pdf"
   ]
  },
  {
   "cell_type": "markdown",
   "metadata": {
    "slideshow": {
     "slide_type": "slide"
    }
   },
   "source": [
    "### `nms`关键代码阅读\n",
    "\n",
    "```\n",
    "i = B[0]\n",
    "\n",
    "iou = box_iou(boxes[i, :].reshape(-1, 4),\n",
    "              boxes[B[1:], :].reshape(-1, 4)).reshape(-1)\n",
    "inds = torch.nonzero(iou <= iou_threshold).reshape(-1)\n",
    "B = B[inds + 1]\n",
    "```\n",
    "\n",
    "要点：计算`iou`时传入的为`B[1:]`，后续对`B`索引时应为`inds + 1`"
   ]
  },
  {
   "cell_type": "markdown",
   "metadata": {
    "slideshow": {
     "slide_type": "slide"
    }
   },
   "source": [
    "## 小结\n",
    "\n",
    "阅读：锚框.pdf"
   ]
  }
 ],
 "metadata": {
  "celltoolbar": "Slideshow",
  "kernelspec": {
   "display_name": "Python 3",
   "language": "python",
   "name": "python3"
  },
  "language_info": {
   "codemirror_mode": {
    "name": "ipython",
    "version": 3
   },
   "file_extension": ".py",
   "mimetype": "text/x-python",
   "name": "python",
   "nbconvert_exporter": "python",
   "pygments_lexer": "ipython3",
   "version": "3.8.8"
  }
 },
 "nbformat": 4,
 "nbformat_minor": 4
}
