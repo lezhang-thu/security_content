{
 "cells": [
  {
   "cell_type": "markdown",
   "metadata": {
    "origin_pos": 0,
    "slideshow": {
     "slide_type": "slide"
    }
   },
   "source": [
    "# 概率\n",
    "\n",
    "简单地说，机器学习就是做出预测。\n",
    "\n",
    "根据病人的临床病史，我们可能想预测他们在下一年心脏病发作的*概率*。\n",
    "在飞机喷气发动机的异常检测中，我们想要评估一组发动机读数为正常运行情况的概率有多大。\n",
    "当我们建立推荐系统时，我们也需要考虑概率。\n",
    "例如，假设我们为一家大型在线书店工作，我们可能希望估计某些用户购买特定图书的概率。\n",
    "为此，我们需要使用概率学。\n",
    "\n",
    "\n"
   ]
  },
  {
   "cell_type": "markdown",
   "metadata": {
    "slideshow": {
     "slide_type": "slide"
    }
   },
   "source": [
    "### 条件概率\n",
    "\n",
    "联合概率的不等式带给我们一个有趣的比率：\n",
    "$0 \\leq \\frac{P(A=a, B=b)}{P(A=a)} \\leq 1$。\n",
    "我们称这个比率为*条件概率*（conditional probability），\n",
    "并用$P(B=b \\mid A=a)$表示它：它是$B=b$的概率，前提是$A=a$已发生。\n",
    "\n"
   ]
  },
  {
   "cell_type": "markdown",
   "metadata": {
    "slideshow": {
     "slide_type": "slide"
    }
   },
   "source": [
    "### 贝叶斯定理\n",
    "\n",
    "使用条件概率的定义，我们可以得出统计学中最有用的方程之一：\n",
    "*Bayes定理*（Bayes' theorem）。\n",
    "根据*乘法法则*（multiplication rule ）可得到$P(A, B) = P(B \\mid A) P(A)$。\n",
    "根据对称性，可得到$P(A, B) = P(A \\mid B) P(B)$。\n",
    "假设$P(B)>0$，求解其中一个条件变量，我们得到\n",
    "\n",
    "$$P(A \\mid B) = \\frac{P(B \\mid A) P(A)}{P(B)}.$$\n",
    "\n",
    "\n",
    "\n"
   ]
  },
  {
   "cell_type": "markdown",
   "metadata": {
    "slideshow": {
     "slide_type": "slide"
    }
   },
   "source": [
    "请注意，这里我们使用紧凑的表示法：\n",
    "其中$P(A, B)$是一个*联合分布*（joint distribution），\n",
    "$P(A \\mid B)$是一个*条件分布*（conditional distribution）。\n",
    "这种分布可以在给定值$A = a, B=b$上进行求值。"
   ]
  },
  {
   "cell_type": "markdown",
   "metadata": {
    "slideshow": {
     "slide_type": "slide"
    }
   },
   "source": [
    "### 边际化\n",
    "\n",
    "为了能进行事件概率求和，我们需要*求和法则*（sum rule），\n",
    "即$B$的概率相当于计算$A$的所有可能选择，并将所有选择的联合概率聚合在一起：\n",
    "\n",
    "$$P(B) = \\sum_{A} P(A, B),$$\n",
    "\n",
    "这也称为*边际化*（marginalization）。\n",
    "边际化结果的概率或分布称为*边际概率*（marginal probability）\n",
    "或*边际分布*（marginal distribution）。\n",
    "\n"
   ]
  },
  {
   "cell_type": "markdown",
   "metadata": {
    "slideshow": {
     "slide_type": "slide"
    }
   },
   "source": [
    "\n",
    "由于$P(A \\mid B) = \\frac{P(A, B)}{P(B)} = P(A)$等价于$P(A, B) = P(A)P(B)$，\n",
    "因此两个随机变量是独立的，*当且仅当*两个随机变量的联合分布是其各自分布的乘积。\n",
    "\n",
    "同样地，给定另一个随机变量$C$时，两个随机变量$A$和$B$是*条件独立的*（conditionally independent），\n",
    "当且仅当$$P(A, B \\mid C) = P(A \\mid C)P(B \\mid C)$$"
   ]
  },
  {
   "cell_type": "markdown",
   "metadata": {
    "slideshow": {
     "slide_type": "slide"
    }
   },
   "source": [
    "### 应用\n",
    "\n",
    "假设一个医生对患者进行艾滋病病毒（HIV）测试。\n",
    "这个测试是相当准确的，如果患者健康但测试显示他患病，这个概率只有1%；\n",
    "如果患者真正感染HIV，它永远不会检测不出。\n",
    "我们使用$D_1$来表示诊断结果（如果阳性，则为$1$，如果阴性，则为$0$），\n",
    "$H$来表示感染艾滋病病毒的状态（如果阳性，则为$1$，如果阴性，则为$0$）。"
   ]
  },
  {
   "cell_type": "markdown",
   "metadata": {
    "slideshow": {
     "slide_type": "slide"
    }
   },
   "source": [
    "| 条件概率 | $H=1$ | $H=0$ |\n",
    "|---|---|---|\n",
    "|$P(D_1 = 1 \\mid H)$|            1 |         0.01 |\n",
    "|$P(D_1 = 0 \\mid H)$|            0 |         0.99 |"
   ]
  },
  {
   "cell_type": "markdown",
   "metadata": {
    "slideshow": {
     "slide_type": "slide"
    }
   },
   "source": [
    "让我们计算如果测试出来呈阳性，患者感染HIV的概率，即$$P(H = 1 \\mid D_1 = 1)$$\n",
    "显然，这将取决于疾病有多常见，因为它会影响错误警报的数量。\n",
    "假设人口总体是相当健康的，例如，$P(H=1) = 0.0015$。\n",
    "为了应用贝叶斯定理，我们需要运用边际化和乘法法则来确定\n",
    "\n",
    "$$\\begin{aligned}\n",
    "&P(D_1 = 1) \\\\\n",
    "=& P(D_1=1, H=0) + P(D_1=1, H=1)  \\\\\n",
    "=& P(D_1=1 \\mid H=0) P(H=0) + P(D_1=1 \\mid H=1) P(H=1) \\\\\n",
    "=& 0.011485.\n",
    "\\end{aligned}\n",
    "$$\n",
    "\n",
    "\n",
    "\n"
   ]
  },
  {
   "cell_type": "markdown",
   "metadata": {
    "slideshow": {
     "slide_type": "slide"
    }
   },
   "source": [
    "因此，我们得到\n",
    "\n",
    "$$\\begin{aligned}\n",
    "&P(H = 1 \\mid D_1 = 1)\\\\ =& \\frac{P(D_1=1 \\mid H=1) P(H=1)}{P(D_1=1)} \\\\ =& 0.1306 \\end{aligned}.$$\n",
    "\n",
    "换句话说，尽管使用了非常准确的测试，患者实际上患有艾滋病的几率只有13.06%。\n",
    "正如我们所看到的，概率可能是违反直觉的。"
   ]
  },
  {
   "cell_type": "markdown",
   "metadata": {
    "slideshow": {
     "slide_type": "slide"
    }
   },
   "source": [
    "患者在收到这样可怕的消息后应该怎么办？\n",
    "很可能，患者会要求医生进行另一次测试来确定病情。\n",
    "第二个测试具有不同的特性，它不如第一个测试那么精确。\n",
    "\n",
    "| 条件概率 | $H=1$ | $H=0$ |\n",
    "|---|---|---|\n",
    "|$P(D_2 = 1 \\mid H)$|            0.98 |         0.03 |\n",
    "|$P(D_2 = 0 \\mid H)$|            0.02 |         0.97 |"
   ]
  },
  {
   "cell_type": "markdown",
   "metadata": {
    "slideshow": {
     "slide_type": "slide"
    }
   },
   "source": [
    "不幸的是，第二次测试也显示阳性。让我们通过假设*条件独立性*来计算出应用Bayes定理的必要概率：\n",
    "\n",
    "$$\\begin{aligned}\n",
    "&P(D_1 = 1, D_2 = 1 \\mid H = 0) \\\\\n",
    "=& P(D_1 = 1 \\mid H = 0) P(D_2 = 1 \\mid H = 0)  \\\\\n",
    "=& 0.0003,\n",
    "\\end{aligned}\n",
    "$$\n",
    "\n",
    "$$\\begin{aligned}\n",
    "&P(D_1 = 1, D_2 = 1 \\mid H = 1) \\\\\n",
    "=& P(D_1 = 1 \\mid H = 1) P(D_2 = 1 \\mid H = 1)  \\\\\n",
    "=& 0.98.\n",
    "\\end{aligned}\n",
    "$$\n",
    "\n",
    "\n",
    "\n"
   ]
  },
  {
   "cell_type": "markdown",
   "metadata": {
    "slideshow": {
     "slide_type": "slide"
    }
   },
   "source": [
    "现在我们可以应用边际化和乘法规则：\n",
    "\n",
    "$$\\begin{aligned}\n",
    "&P(D_1 = 1, D_2 = 1) \\\\\n",
    "=& P(D_1 = 1, D_2 = 1, H = 0) + P(D_1 = 1, D_2 = 1, H = 1)  \\\\\n",
    "=& P(D_1 = 1, D_2 = 1 \\mid H = 0)P(H=0) \\\\\n",
    "&+ P(D_1 = 1, D_2 = 1 \\mid H = 1)P(H=1)\\\\\n",
    "=& 0.00176955.\n",
    "\\end{aligned}\n",
    "$$"
   ]
  },
  {
   "cell_type": "markdown",
   "metadata": {
    "slideshow": {
     "slide_type": "slide"
    }
   },
   "source": [
    "最后，鉴于存在两次阳性检测，患者患有艾滋病的概率为\n",
    "\n",
    "$$\\begin{aligned}\n",
    "&P(H = 1 \\mid D_1 = 1, D_2 = 1)\\\\\n",
    "=& \\frac{P(D_1 = 1, D_2 = 1 \\mid H=1) P(H=1)}{P(D_1 = 1, D_2 = 1)} \\\\\n",
    "=& 0.8307.\n",
    "\\end{aligned}\n",
    "$$\n",
    "\n",
    "也就是说，第二次测试使我们能够对患病的情况获得更高的信心。\n",
    "尽管第二次检验比第一次检验的准确性要低得多，但它仍然显著提高我们的预测概率。"
   ]
  },
  {
   "cell_type": "markdown",
   "metadata": {
    "slideshow": {
     "slide_type": "slide"
    }
   },
   "source": [
    "在许多情况下，我们希望衡量随机变量$X$与其期望值的偏置。这可以通过方差来量化\n",
    "\n",
    "$$\\mathrm{Var}[X] = \\mathbb{E}\\left[(X - \\mathbb{E}[X])^2\\right] =\n",
    "\\mathbb{E}[X^2] - \\mathbb{E}[X]^2.$$\n",
    "\n",
    "（*课堂提问上述推导*）\n",
    "\n",
    "方差的平方根被称为*标准差*（standard deviation）。"
   ]
  },
  {
   "cell_type": "markdown",
   "metadata": {
    "slideshow": {
     "slide_type": "slide"
    }
   },
   "source": [
    "## 练习\n",
    "\n",
    "1. 假设我们有一系列随机变量，例如$A$、$B$和$C$，其中$B$只依赖于$A$，而$C$只依赖于$B$，你能简化联合概率$P(A, B, C)$吗？（提示：这是一个[马尔可夫链](https://en.wikipedia.org/wiki/Markov_chain)。)"
   ]
  }
 ],
 "metadata": {
  "celltoolbar": "Slideshow",
  "kernelspec": {
   "display_name": "Python 3",
   "language": "python",
   "name": "python3"
  },
  "language_info": {
   "codemirror_mode": {
    "name": "ipython",
    "version": 3
   },
   "file_extension": ".py",
   "mimetype": "text/x-python",
   "name": "python",
   "nbconvert_exporter": "python",
   "pygments_lexer": "ipython3",
   "version": "3.8.8"
  }
 },
 "nbformat": 4,
 "nbformat_minor": 4
}
