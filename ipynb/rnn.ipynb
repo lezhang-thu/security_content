{
 "cells": [
  {
   "cell_type": "markdown",
   "metadata": {
    "slideshow": {
     "slide_type": "slide"
    }
   },
   "source": [
    "# 循环神经网络\n",
    "\n",
    "* 隐变量模型：\n",
    "\n",
    "$$P(x_t \\mid x_{t-1}, \\ldots, x_1) \\approx P(x_t \\mid h_{t-1})$$\n",
    "\n",
    "$$h_t = f(x_{t}, h_{t-1})$$"
   ]
  },
  {
   "cell_type": "markdown",
   "metadata": {
    "slideshow": {
     "slide_type": "slide"
    }
   },
   "source": [
    "## 有隐状态的循环神经网络\n",
    "\n",
    "*循环神经网络*（recurrent neural networks，RNNs）：具有隐状态的神经网络\n",
    "\n",
    "* 小批量输入$\\mathbf{X}_t \\in \\mathbb{R}^{n \\times d}$\n",
    "* $\\mathbf{H}_t  \\in \\mathbb{R}^{n \\times h}$\n",
    "\n",
    "$$\\mathbf{H}_t = \\phi(\\mathbf{X}_t \\mathbf{W}_{xh} + \\mathbf{H}_{t-1} \\mathbf{W}_{hh}  + \\mathbf{b}_h)$$\n",
    "\n",
    "* 输出层的输出\n",
    "\n",
    "$$\\mathbf{O}_t = \\mathbf{H}_t \\mathbf{W}_{hq} + \\mathbf{b}_q$$"
   ]
  },
  {
   "cell_type": "markdown",
   "metadata": {
    "slideshow": {
     "slide_type": "slide"
    }
   },
   "source": [
    "* parameters of the RNN\n",
    "  \n",
    "  hidden layer: $\\mathbf{W}_{xh}, \\mathbf{W}_{hh}, \\mathbf{b}_h$\n",
    "  \n",
    "  output layer: $\\mathbf{W}_{hq}, \\mathbf{b}_q$\n",
    "  \n",
    "  (even at different time steps)\n",
    "  \n",
    "<center><img src=\"../img/rnn.svg\" width=\"50%\"></center>\n",
    "<center>具有隐状态的循环神经网络</center>"
   ]
  },
  {
   "cell_type": "markdown",
   "metadata": {
    "origin_pos": 8,
    "slideshow": {
     "slide_type": "slide"
    }
   },
   "source": [
    "## 基于循环神经网络的字符级语言模型\n",
    "\n",
    "* *字符级语言模型*（character-level language model）\n",
    "* 输入序列：“machin”\n",
    "\n",
    "  标签序列：“achine”\n",
    "\n",
    "<center><img src=\"../img/rnn-train.svg\" width=\"50%\"></center>\n",
    "\n",
    "\n",
    "\n",
    "\n",
    "\n"
   ]
  },
  {
   "cell_type": "markdown",
   "metadata": {
    "slideshow": {
     "slide_type": "slide"
    }
   },
   "source": [
    "## 困惑度（Perplexity）\n",
    "\n",
    "* 如何度量语言模型的质量\n",
    "* 对“It is raining ...”（“...下雨了”）的续写：\n",
    "\n",
    "1. \"It is raining outside\"（外面下雨了）\n",
    "1. \"It is raining banana tree\"（香蕉树下雨了）\n",
    "1. \"It is raining piouw;kcj pwepoiut\"（piouw;kcj pwepoiut下雨了）\n",
    "\n",
    "\n"
   ]
  },
  {
   "cell_type": "markdown",
   "metadata": {
    "slideshow": {
     "slide_type": "slide"
    }
   },
   "source": [
    "* computing the likelihood of the sequence\n",
    "* 较短的序列比较长的序列更有可能出现\n",
    "* 对比：《战争与和平》和《小王子》\n",
    "\n",
    "\n"
   ]
  },
  {
   "cell_type": "markdown",
   "metadata": {
    "slideshow": {
     "slide_type": "slide"
    }
   },
   "source": [
    "* 一个更好的语言模型应该能让我们更准确地预测下一个词元\n",
    "\n",
    "$$\\frac{1}{n} \\sum_{t=1}^n -\\log P(x_t \\mid x_{t-1}, \\ldots, x_1)$$\n",
    "\n",
    "$P$由语言模型给出\n",
    "\n",
    "$x_t$：实际词元\n",
    "\n",
    "* 不同长度的文档的性能具有了可比性\n",
    "\n",
    "* *困惑度*（perplexity）：$\\exp(\\cdot)$"
   ]
  },
  {
   "cell_type": "markdown",
   "metadata": {
    "slideshow": {
     "slide_type": "slide"
    }
   },
   "source": [
    "* 下一个词元的实际选择数的调和平均数\n",
    "\n",
    "（the harmonic mean of the number of real choices that we have when deciding which token to pick next）\n",
    "\n",
    "\\begin{align*}\n",
    "&\\bigl[e^{\\sum_{t=1}^n \\log P(x_t \\mid x_{t-1}, \\ldots, x_1)}\\bigr]^{-1/n}\\\\\n",
    "=&\\biggl[\\prod_{t=1}^n \\frac{1}{P(x_t \\mid x_{t-1}, \\ldots, x_1)}\\biggr]^{1/n}\n",
    "\\end{align*}\n",
    "\n",
    "* 基线：均匀分布\n",
    "  \n",
    "  困惑度：the number of unique tokens of the vocabulary"
   ]
  }
 ],
 "metadata": {
  "celltoolbar": "Slideshow",
  "kernelspec": {
   "display_name": "Python 3",
   "language": "python",
   "name": "python3"
  },
  "language_info": {
   "codemirror_mode": {
    "name": "ipython",
    "version": 3
   },
   "file_extension": ".py",
   "mimetype": "text/x-python",
   "name": "python",
   "nbconvert_exporter": "python",
   "pygments_lexer": "ipython3",
   "version": "3.8.8"
  }
 },
 "nbformat": 4,
 "nbformat_minor": 4
}
